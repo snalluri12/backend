{
  "cells": [
    {
      "cell_type": "markdown",
      "metadata": {
        "id": "view-in-github",
        "colab_type": "text"
      },
      "source": [
        "<a href=\"https://colab.research.google.com/github/snalluri12/backend/blob/main/hw3_LM_for_NLP_OMSCS_v1_part_a.ipynb\" target=\"_parent\"><img src=\"https://colab.research.google.com/assets/colab-badge.svg\" alt=\"Open In Colab\"/></a>"
      ]
    },
    {
      "cell_type": "markdown",
      "metadata": {
        "editable": false,
        "id": "UT-whgM5YV8X",
        "tags": []
      },
      "source": [
        "# Language Modeling\n",
        "\n",
        "A language model attempts to approximate the underlying statistics of a text corpus $P(tok_n | tok_1, tok_2, ..., tok_{n-1}; \\theta)$ where $\\theta$ is a set of learned parameters/weights. For the purposes of this notebook, tokens will be words. Language models can be used for a variety of applications, one of which being text generation. In this assignement we will be looking at Recurrent Neural Networks.\n",
        "\n",
        "**Tips:**\n",
        "- Read all the code. We don't ask you to write the training loops, evaluation loops, and generation loops, but it is often instructive to see how the models are trained and evaluated.\n",
        "- If you have a model that is learning (loss is decreasing), but you want to increase accuracy, try using ``nn.Dropout`` layers just before the final linear layer to force the model to handle missing or unfamiliar data."
      ]
    },
    {
      "cell_type": "code",
      "execution_count": 2,
      "metadata": {
        "editable": false,
        "tags": [
          "raises-exception"
        ],
        "id": "HbY5tiU3hLQX"
      },
      "outputs": [],
      "source": [
        "# start time - notebook execution\n",
        "import time\n",
        "start_nb = time.time()"
      ]
    },
    {
      "cell_type": "markdown",
      "metadata": {
        "editable": false,
        "id": "VeQWnSY8CgT1",
        "tags": []
      },
      "source": [
        "# Set up"
      ]
    },
    {
      "cell_type": "markdown",
      "metadata": {
        "editable": false,
        "id": "vcoLFG32u68g",
        "tags": []
      },
      "source": [
        "Import packages"
      ]
    },
    {
      "cell_type": "code",
      "execution_count": 3,
      "metadata": {
        "editable": false,
        "id": "us-v9ZxoTHV1",
        "tags": [
          "raises-exception"
        ]
      },
      "outputs": [],
      "source": [
        "import numpy as np\n",
        "import os\n",
        "import re\n",
        "import torch\n",
        "import torch.nn as nn\n",
        "import torch.nn.functional as F\n",
        "import unicodedata\n",
        "\n",
        "# ignore all warnings\n",
        "import warnings\n",
        "warnings.filterwarnings('ignore')"
      ]
    },
    {
      "cell_type": "markdown",
      "metadata": {
        "collapsed": false,
        "editable": false,
        "tags": [],
        "id": "Gv4M4BUhhLQX"
      },
      "source": [
        "# Initialize the Autograder"
      ]
    },
    {
      "cell_type": "code",
      "execution_count": 5,
      "metadata": {
        "editable": false,
        "tags": [
          "raises-exception"
        ],
        "id": "6c3BY5nohLQX"
      },
      "outputs": [],
      "source": [
        "# import the autograder tests\n",
        "import hw3a_tests as ag"
      ]
    },
    {
      "cell_type": "markdown",
      "metadata": {
        "editable": false,
        "id": "Fp1_pgBuY5zT",
        "tags": []
      },
      "source": [
        "We will build a *vocabulary*, which will act as a dictionary of all the words our systems will know about. It will also allow us to map words to tokens, which will be unique indexes in the vocabulary. This will further allow us to transform words into one-hot vectors, where a word is represented as a vector of the same length as the vocabulary wherein all values are zeros except for the *i*th element, where *i* is the token number of the word."
      ]
    },
    {
      "cell_type": "code",
      "execution_count": 6,
      "metadata": {
        "editable": false,
        "id": "1ybnRLpOTYwi",
        "tags": [
          "raises-exception"
        ]
      },
      "outputs": [],
      "source": [
        "SOS_token = 0    # A special token representing the start of a sequence\n",
        "EOS_token = 1    # A special token representing the end of a sequence\n",
        "\n",
        "class Vocab:\n",
        "    def __init__(self, name):\n",
        "        self.name = name                             # The name of the vocabulary\n",
        "        self._word2index = {}                        # Map words to token index\n",
        "        self._word2count = {}                        # Track how many times a word occurs in a corpus\n",
        "        self._index2word = {0: \"SOS\", 1: \"EOS\"}      # Map token indexs back into words\n",
        "        self._n_words = 2 # Count SOS and EOS        # Number of unique words in the corpus\n",
        "\n",
        "    # Get a list of all words\n",
        "    def get_words(self):\n",
        "      return list(self._word2count.keys())\n",
        "\n",
        "    # Get the number of words\n",
        "    def num_words(self):\n",
        "      return self._n_words\n",
        "\n",
        "    # Convert a word into a token index\n",
        "    def word2index(self, word):\n",
        "      return self._word2index[word]\n",
        "\n",
        "    # Convert a token into a word\n",
        "    def index2word(self, word):\n",
        "      return self._index2word[word]\n",
        "\n",
        "    # Get the number of times a word occurs\n",
        "    def word2count(self, word):\n",
        "      return self._word2count[word]\n",
        "\n",
        "    # Add all the words in a sentence to the vocabulary\n",
        "    def add_sentence(self, sentence):\n",
        "        for word in sentence.split(' '):\n",
        "            self.add_word(word)\n",
        "\n",
        "    # Add a single word to the vocabulary\n",
        "    def add_word(self, word):\n",
        "        if word not in self._word2index:\n",
        "            self._word2index[word] = self._n_words\n",
        "            self._word2count[word] = 1\n",
        "            self._index2word[self._n_words] = word\n",
        "            self._n_words += 1\n",
        "        else:\n",
        "            self._word2count[word] += 1"
      ]
    },
    {
      "cell_type": "markdown",
      "metadata": {
        "editable": false,
        "id": "8L7cXWAYacx3",
        "tags": []
      },
      "source": [
        "These are some helper functions to *normalize* texts, ie, make the text regular and remove some of the more problematic exceptions found in texts. This normalizer will make all words lowercase, trim plurals, and remove non-letter characters."
      ]
    },
    {
      "cell_type": "code",
      "execution_count": 7,
      "metadata": {
        "editable": false,
        "id": "SpAin8FuTsNr",
        "tags": [
          "raises-exception"
        ]
      },
      "outputs": [],
      "source": [
        "# Convert any unicode to ascii\n",
        "def unicode_to_ascii(s):\n",
        "    return ''.join(\n",
        "        c for c in unicodedata.normalize('NFD', s)\n",
        "        if unicodedata.category(c) != 'Mn'\n",
        "    )\n",
        "\n",
        "# Lowercase, trim, and remove non-letter characters\n",
        "def normalize_string(s):\n",
        "    s = unicode_to_ascii(s.lower().strip())\n",
        "    s = re.sub(r\"([.!?])\", r\" \\1\", s)\n",
        "    s = re.sub(r\"[^a-zA-Z.!?]+\", r\" \", s)\n",
        "    return s"
      ]
    },
    {
      "cell_type": "markdown",
      "metadata": {
        "editable": false,
        "id": "0G1p53AuazDJ",
        "tags": []
      },
      "source": [
        "Download a corpus. This corpus is the ascii text of the book, *The Silmarillion*, by J.R.R. Tolkein. It has a lot of non-common words and names to illustrate how language models deal with such things."
      ]
    },
    {
      "cell_type": "code",
      "execution_count": 8,
      "metadata": {
        "editable": false,
        "id": "i6IA64U3T3K7",
        "tags": [
          "raises-exception"
        ],
        "colab": {
          "base_uri": "https://localhost:8080/"
        },
        "outputId": "9a055213-3909-45e3-a8b2-e462f2bcfbf7"
      },
      "outputs": [
        {
          "output_type": "stream",
          "name": "stdout",
          "text": [
            "downloading data.txt\n",
            "--2025-06-14 19:53:10--  https://www.dropbox.com/s/pgvn1n7t4sjxt8r/silmarillion?dl=1\n",
            "Resolving www.dropbox.com (www.dropbox.com)... 162.125.1.18, 2620:100:6016:18::a27d:112\n",
            "Connecting to www.dropbox.com (www.dropbox.com)|162.125.1.18|:443... connected.\n",
            "HTTP request sent, awaiting response... 302 Found\n",
            "Location: https://www.dropbox.com/scl/fi/qp53tge07if28jhiwbtdb/silmarillion?rlkey=i09d3by7gw32i5yc9etv2e2ma&dl=1 [following]\n",
            "--2025-06-14 19:53:10--  https://www.dropbox.com/scl/fi/qp53tge07if28jhiwbtdb/silmarillion?rlkey=i09d3by7gw32i5yc9etv2e2ma&dl=1\n",
            "Reusing existing connection to www.dropbox.com:443.\n",
            "HTTP request sent, awaiting response... 302 Found\n",
            "Location: https://uc0c9318d559e50135995395cc5b.dl.dropboxusercontent.com/cd/0/inline/Crl-k21sFjkHTW_t5myNSUifUVtHdyF9GlVMKEC4OotBPSDi9CBR3aD513EerHONoddXs0YOJglpU_dr4G2HfLlobYXXTQfqHvoRpSwoTENZuhq1dTWaL1eoW1DarbNiKY0n8NnlITp5b_QK9sy1rPMR/file?dl=1# [following]\n",
            "--2025-06-14 19:53:10--  https://uc0c9318d559e50135995395cc5b.dl.dropboxusercontent.com/cd/0/inline/Crl-k21sFjkHTW_t5myNSUifUVtHdyF9GlVMKEC4OotBPSDi9CBR3aD513EerHONoddXs0YOJglpU_dr4G2HfLlobYXXTQfqHvoRpSwoTENZuhq1dTWaL1eoW1DarbNiKY0n8NnlITp5b_QK9sy1rPMR/file?dl=1\n",
            "Resolving uc0c9318d559e50135995395cc5b.dl.dropboxusercontent.com (uc0c9318d559e50135995395cc5b.dl.dropboxusercontent.com)... 162.125.1.15, 2620:100:6016:15::a27d:10f\n",
            "Connecting to uc0c9318d559e50135995395cc5b.dl.dropboxusercontent.com (uc0c9318d559e50135995395cc5b.dl.dropboxusercontent.com)|162.125.1.15|:443... connected.\n",
            "HTTP request sent, awaiting response... 200 OK\n",
            "Length: 660516 (645K) [application/binary]\n",
            "Saving to: ‘data.txt’\n",
            "\n",
            "data.txt            100%[===================>] 645.04K  --.-KB/s    in 0.03s   \n",
            "\n",
            "2025-06-14 19:53:11 (20.3 MB/s) - ‘data.txt’ saved [660516/660516]\n",
            "\n"
          ]
        }
      ],
      "source": [
        "if os.path.isfile('data.txt'):\n",
        "  print(\"data.txt already downloaded\")\n",
        "else:\n",
        "  print(\"downloading data.txt\")\n",
        "  !wget -O data.txt https://www.dropbox.com/s/pgvn1n7t4sjxt8r/silmarillion?dl=1"
      ]
    },
    {
      "cell_type": "markdown",
      "metadata": {
        "editable": false,
        "id": "EEhv3LTxb1If",
        "tags": []
      },
      "source": [
        "Let's read in the data and take a look at it."
      ]
    },
    {
      "cell_type": "code",
      "execution_count": 9,
      "metadata": {
        "editable": false,
        "id": "AfzYspyHUT7k",
        "tags": [
          "raises-exception"
        ],
        "colab": {
          "base_uri": "https://localhost:8080/",
          "height": 214
        },
        "outputId": "1f175756-6296-4733-854a-a6262c6694ee"
      },
      "outputs": [
        {
          "output_type": "execute_result",
          "data": {
            "text/plain": [
              "'The Silmarillon Chapter 1\\n\\n\\nOf the Beginning of Days It is told among the wise that the First War began before Arda was full-shaped, and ere yet there was any thing that grew or walked upon earth; and for long Melkor had the upper hand. But in the midst of the war a spirit of great strength and hardihood came to the aid of the Valar, hearing in the far heaven that there was battle in the Little Kingdom; and Arda was filled with the sound of his laughter. So came Tulkas the Strong, whose anger passes like a mighty wind, scattering cloud and darkness before it; and Melkor fled before his wrath and his laughter, and forsook Arda, and there was peace for a long age. And Tulkas remained and became one of the Valar of the Kingdom of Arda; but Melkor brooded in the outer darkness, and his hate was given to Tulkas for ever after.\\n\\nIn that time the Valar brought order to the seas and the lands and the mountains, and Yavanna planted at last the seeds that she had long devised. And since, when th'"
            ],
            "application/vnd.google.colaboratory.intrinsic+json": {
              "type": "string"
            }
          },
          "metadata": {},
          "execution_count": 9
        }
      ],
      "source": [
        "filename = 'data.txt'\n",
        "with open(filename, encoding='utf-8') as f:\n",
        "  text = f.read()\n",
        "text[:1000]"
      ]
    },
    {
      "cell_type": "markdown",
      "metadata": {
        "editable": false,
        "id": "rPga6_LmcDWJ",
        "tags": []
      },
      "source": [
        "Normalize the text and build the vocabulary"
      ]
    },
    {
      "cell_type": "code",
      "execution_count": 10,
      "metadata": {
        "editable": false,
        "id": "FV_ib2sZYMqo",
        "tags": [
          "raises-exception"
        ]
      },
      "outputs": [],
      "source": [
        "normalized_text = normalize_string(text)\n",
        "VOCAB = Vocab(\"text\")\n",
        "VOCAB.add_sentence(normalized_text)"
      ]
    },
    {
      "cell_type": "markdown",
      "metadata": {
        "editable": false,
        "id": "VBei0ecBcHAy",
        "tags": []
      },
      "source": [
        "Make training and testing data splits."
      ]
    },
    {
      "cell_type": "code",
      "execution_count": 11,
      "metadata": {
        "editable": false,
        "id": "HMc-3xncyc_Q",
        "tags": [
          "raises-exception"
        ],
        "colab": {
          "base_uri": "https://localhost:8080/"
        },
        "outputId": "7e2a1b7d-52f7-4969-ff40-48af37cb12ef"
      },
      "outputs": [
        {
          "output_type": "stream",
          "name": "stdout",
          "text": [
            "The first 100 tokens\n",
            "[ 2  3  4  5  2  6  5  7  8  9 10 11  2 12 13  2 14 15 16 17 18 19 20 21\n",
            " 22 23 24 25 19 26 27 13 28 29 30 31 32 22 33 34 35 36  2 37 38 39 40 41\n",
            "  2 42  5  2 15 43 44  5 45 46 22 47 48 49  2 50  5  2 51 52 41  2 53 54\n",
            " 13 25 19 55 41  2 56 57 22 18 19 58 59  2 60  5 61 62 39 63 48 64  2 65\n",
            " 66 67 68 69]\n"
          ]
        }
      ],
      "source": [
        "# Convert every word into a token and build a numpy array of tokens\n",
        "encoded_text = np.array([VOCAB.word2index(word) for word in normalized_text.split()])\n",
        "print(\"The first 100 tokens\")\n",
        "print(encoded_text[:100])\n",
        "# get the validation and the training data\n",
        "test_split = 0.1\n",
        "test_idx = int(len(encoded_text) * (1 - test_split))\n",
        "TRAIN = encoded_text[:test_idx]\n",
        "TEST = encoded_text[test_idx:]\n",
        "# Decrease the size of the training set to make the assignment more tractable\n",
        "TRAIN = TRAIN[:len(TRAIN)//10]"
      ]
    },
    {
      "cell_type": "markdown",
      "metadata": {
        "editable": false,
        "id": "niQcV2wIFq29",
        "tags": []
      },
      "source": [
        "# RNN\n",
        "\n",
        "**Complete the code for an RNN.** An RNN takes a one-hot vector for a single word and a hidden state vector (initially all zeroes), compresses it to a hidden state, and then decompresses it. The decompressed word is tested against the **next** word in the training sequence using cross-entropy loss. The RNN also produces the hidden state vector to pass in with the next word in the training sequence. The neural network must guess the next word as well as learn to create a hidden state vector that helps the next iteration make a better word guess.\n",
        "\n",
        "The neural network's forward function should take two inputs:\n",
        "- The input word (`x`) represented as a one-hot vector of size `1 x vocab_size`\n",
        "- The hidden state, a `1 x hidden_size` vector.\n",
        "\n",
        "A brief note on batching: We will not be using batching in this assignment. But there must always be a batching dimension in our input and output tensors. Thus we will have a batching dimension size of 1 and our tensors will often be of a shape `1 x something`.\n",
        "\n",
        "The neural network architecture shoud concatenate the `x` and the `hidden_state` to make one big long vector. The neural network get's to learn through weights whether to draw from the one-hot (or certain parts of the one-hot) or the hidden state when trying to predict the next token.\n",
        "\n",
        "The neural network should have two affine transformations (`nn.Linear` modules). The first should transform the a tensor of size `1 x (vocab_size + hidden_size)` into a tensor of size `1 x hidden_size`, followed by a sigmoid activation. This compresses the information from the input and forces the neural network to make compromises about what is important. Think of the sigmoid a gate that says yes or no to different combinations of inputs. The second affine transform should be from a tensor of `1 x hidden_size` to one of `1 x vocab_size`. The values in resultant tensor are the raw scores for each possible token in the vocabulary. The forward function should run these scores through a log softmax.\n",
        "\n",
        "The output of the forward function should be two values: a tensor of log-scale scores for each token, and a new hidden state."
      ]
    },
    {
      "cell_type": "markdown",
      "metadata": {
        "editable": false,
        "id": "y0r-3PvoRV3S",
        "tags": []
      },
      "source": [
        "## RNN---Model (30 Points)"
      ]
    },
    {
      "cell_type": "code",
      "execution_count": 12,
      "metadata": {
        "editable": true,
        "id": "vhb3w8CUqydH",
        "nbgrader": {
          "grade": false,
          "grade_id": "cell-2ef3f98851d99506",
          "locked": false,
          "schema_version": 3,
          "solution": true,
          "task": false
        },
        "tags": [
          "raises-exception"
        ]
      },
      "outputs": [],
      "source": [
        "class MyRNN(nn.Module):\n",
        "  def __init__(self, input_size, hidden_size, output_size=None):\n",
        "    super(MyRNN, self).__init__()\n",
        "    # If output_size is not given, use input_size\n",
        "    if output_size is None:\n",
        "      output_size = input_size\n",
        "    self.input_size = input_size      # the size of the input vocabulary\n",
        "    self.hidden_size = hidden_size    # the size of the hidden state\n",
        "    self.output_size = output_size    # the size of the output vocabulary (if different)\n",
        "    ### BEGIN SOLUTION\n",
        "    # concatenate\n",
        "    self.linear1 = nn.Linear(input_size + hidden_size, hidden_size)\n",
        "    self.linear2 = nn.Linear(hidden_size, output_size)\n",
        "    ### END SOLUTION\n",
        "\n",
        "  def forward(self, x, hidden_state):\n",
        "    output = None\n",
        "    hidden = None\n",
        "    ### BEGIN SOLUTION\n",
        "    # 1 x vocab_size (x)\n",
        "    # citation: https://docs.pytorch.org/docs/stable/generated/torch.cat.html\n",
        "    concatenated = torch.cat((x, hidden_state), 1)\n",
        "    # transform 1\n",
        "    hidden = self.linear1(concatenated)\n",
        "    # sigmoid activation\n",
        "    hidden = torch.sigmoid(hidden)\n",
        "    # transform 2\n",
        "    output_scores = self.linear2(hidden)\n",
        "    # citation: https://docs.pytorch.org/docs/stable/generated/torch.nn.LogSoftmax.html\n",
        "    sm = nn.LogSoftmax(dim=1)\n",
        "    output = sm(output_scores)\n",
        "    ### END SOLUTION\n",
        "    return output, hidden\n",
        "\n",
        "  # Make an initial hidden state with some randomness to the values\n",
        "  def init_hidden(self):\n",
        "    return nn.init.kaiming_uniform_(torch.empty(1, self.hidden_size))"
      ]
    },
    {
      "cell_type": "markdown",
      "metadata": {
        "editable": false,
        "id": "QNlqo68hdXT8",
        "tags": []
      },
      "source": [
        "Construct the RNN"
      ]
    },
    {
      "cell_type": "code",
      "execution_count": 13,
      "metadata": {
        "editable": true,
        "id": "BimhoCMSSgRd",
        "tags": [
          "raises-exception"
        ]
      },
      "outputs": [],
      "source": [
        "# it's ok to modify this cell\n",
        "RNN_HIDDEN_SIZE = 256\n",
        "RNN_LEARNING_RATE = 0.001\n",
        "RNN_NUM_EPOCHS = 2"
      ]
    },
    {
      "cell_type": "code",
      "execution_count": 14,
      "metadata": {
        "editable": false,
        "id": "xVQa8yuJq9Sv",
        "tags": [
          "raises-exception"
        ]
      },
      "outputs": [],
      "source": [
        "# Create the network\n",
        "rnn = MyRNN(VOCAB.num_words(), RNN_HIDDEN_SIZE)\n",
        "\n",
        "# Create the loss function and optimizer\n",
        "criterion_rnn = nn.NLLLoss()\n",
        "optimizer_rnn = torch.optim.Adam(rnn.parameters(), lr=RNN_LEARNING_RATE)"
      ]
    },
    {
      "cell_type": "code",
      "execution_count": 15,
      "metadata": {
        "editable": false,
        "id": "M6o9RfTm4A5q",
        "scrolled": true,
        "tags": [
          "raises-exception"
        ],
        "colab": {
          "base_uri": "https://localhost:8080/"
        },
        "outputId": "18b5ec9c-18dd-4ebf-e109-6bd792c75fc8"
      },
      "outputs": [
        {
          "output_type": "stream",
          "name": "stdout",
          "text": [
            "NllLossBackward0\n",
            "LogSoftmaxBackward0\n",
            "AddmmBackward0\n",
            "AccumulateGrad\n",
            "SigmoidBackward0\n",
            "AddmmBackward0\n",
            "AccumulateGrad\n",
            "TBackward0\n",
            "AccumulateGrad\n",
            "TBackward0\n",
            "AccumulateGrad\n",
            "NllLossBackward0\n",
            "LogSoftmaxBackward0\n",
            "AddmmBackward0\n",
            "AccumulateGrad\n",
            "SigmoidBackward0\n",
            "AddmmBackward0\n",
            "AccumulateGrad\n",
            "TBackward0\n",
            "AccumulateGrad\n",
            "TBackward0\n",
            "AccumulateGrad\n",
            "NllLossBackward0\n",
            "LogSoftmaxBackward0\n",
            "AddmmBackward0\n",
            "AccumulateGrad\n",
            "SigmoidBackward0\n",
            "AddmmBackward0\n",
            "AccumulateGrad\n",
            "TBackward0\n",
            "AccumulateGrad\n",
            "TBackward0\n",
            "AccumulateGrad\n",
            "Test A: 10/10\n"
          ]
        }
      ],
      "source": [
        "# student check - the following test must return a value of 10 to receive full credit (no partial credit)\n",
        "ag.unit_test_RNN_structure()"
      ]
    },
    {
      "metadata": {
        "id": "50UeAN-ahLQZ"
      },
      "cell_type": "markdown",
      "source": [
        "Complete the following function.\n",
        "\n",
        "`token2onehot()` takes a token—a number—and converts it to a one-hot tensor of the shape `1 x vocab_size`. All values should be zeros except for one element, which should be a `1`.\n",
        "\n",
        "`get_rnn_x_y_()` should return the `x` and `y` for a recurrent neural network.\n",
        "\n",
        "- The `x` return value should be a tensor containing a one-hot vector representing the word at position `index` and have a shape of `1 x vocab_size` (the batch size is 1).\n",
        "- The `y` return value should be the token of the word at position `index+1` and be a vector with a single value in it. That is, it should not be a scalar but a vector of length 1.\n"
      ]
    },
    {
      "metadata": {
        "id": "o_4Zf6wKhLQZ"
      },
      "cell_type": "code",
      "outputs": [],
      "execution_count": 29,
      "source": [
        "def token2onehot(token, vocab_size = VOCAB.num_words()):\n",
        "  one_hot = None\n",
        "  ### BEGIN SOLUTION\n",
        "  one_hot = torch.zeros(1,vocab_size)\n",
        "  # assign 1\n",
        "  one_hot[0][token] = 1\n",
        "  ### END SOLUTION\n",
        "  return one_hot\n",
        "\n",
        "def get_rnn_x_y(data, index, vocab_size = VOCAB.num_words()):\n",
        "  x = None\n",
        "  y = None\n",
        "  ### BEGIN SOLUTION\n",
        "  word_x = data[index]\n",
        "  x = token2onehot(word_x, vocab_size)\n",
        "  # vector\n",
        "  y = torch.tensor([data[index+1]])\n",
        "  #print(y)\n",
        "  ### END SOLUTION\n",
        "  return x, y"
      ]
    },
    {
      "cell_type": "code",
      "execution_count": 30,
      "metadata": {
        "editable": false,
        "tags": [
          "raises-exception"
        ],
        "colab": {
          "base_uri": "https://localhost:8080/"
        },
        "id": "K0PM1NUPhLQZ",
        "outputId": "317c7022-2f44-4c87-e167-fdcba9475107"
      },
      "outputs": [
        {
          "output_type": "stream",
          "name": "stdout",
          "text": [
            "Test B: 10/10\n"
          ]
        }
      ],
      "source": [
        "# student check - the following test must return a value of 10 to receive full credit (no partial credit)\n",
        "ag.unit_test_token2onehot()"
      ]
    },
    {
      "cell_type": "code",
      "execution_count": 31,
      "metadata": {
        "editable": false,
        "tags": [
          "raises-exception"
        ],
        "colab": {
          "base_uri": "https://localhost:8080/"
        },
        "id": "OztwN9O9hLQZ",
        "outputId": "fb632460-010f-4025-ff05-4d67a33bf9c9"
      },
      "outputs": [
        {
          "output_type": "stream",
          "name": "stdout",
          "text": [
            "Test C: 10/10\n"
          ]
        }
      ],
      "source": [
        "# student check - the following test must return a value of 100 to receive full credit (no partial credit)\n",
        "ag.unit_test_get_xy()"
      ]
    },
    {
      "cell_type": "markdown",
      "metadata": {
        "editable": false,
        "id": "RDFRH_FUj_4F",
        "tags": []
      },
      "source": [
        "The following is the training loop. You can see how your `get_rnn_x_y()` is used."
      ]
    },
    {
      "cell_type": "code",
      "execution_count": 32,
      "metadata": {
        "editable": false,
        "id": "97XvkPmsuC2Q",
        "tags": [
          "raises-exception"
        ]
      },
      "outputs": [],
      "source": [
        "def train_rnn(model, optimizer, criterion, data, num_epochs):\n",
        "  model.train()\n",
        "  for epoch in range(num_epochs):\n",
        "    hidden_state = model.init_hidden()\n",
        "    losses = []\n",
        "    for i in range(len(data)-2):\n",
        "      x, y = get_rnn_x_y(data, i)\n",
        "      x = x.float()\n",
        "      output, new_hidden = model(x, hidden_state)\n",
        "      hidden_state = new_hidden.detach()\n",
        "      loss = criterion(output, y)\n",
        "      optimizer.zero_grad()\n",
        "      loss.backward()\n",
        "      losses.append(loss.item())\n",
        "      nn.utils.clip_grad_norm_(model.parameters(), 1)\n",
        "      optimizer.step()\n",
        "      if i%100 == 0:\n",
        "        print('iter', i, 'loss', np.array(losses).mean())\n",
        "    print('epoch', epoch, 'loss', np.array(losses).mean())"
      ]
    },
    {
      "cell_type": "code",
      "execution_count": 33,
      "metadata": {
        "editable": false,
        "id": "kyvFAzHzvmJz",
        "scrolled": true,
        "tags": [
          "raises-exception"
        ],
        "colab": {
          "base_uri": "https://localhost:8080/"
        },
        "outputId": "6d4d8d38-d5eb-4396-df10-77d6d1b6662e"
      },
      "outputs": [
        {
          "output_type": "stream",
          "name": "stdout",
          "text": [
            "iter 0 loss 10.419189453125\n",
            "iter 100 loss 4.766361094937466\n",
            "iter 200 loss 4.695964365456235\n",
            "iter 300 loss 4.77417478450509\n",
            "iter 400 loss 4.876310462666272\n",
            "iter 500 loss 4.937391740119386\n",
            "iter 600 loss 4.993583202758764\n",
            "iter 700 loss 5.067107464719601\n",
            "iter 800 loss 5.1059144640087935\n",
            "iter 900 loss 5.179314926514747\n",
            "iter 1000 loss 5.212145100702177\n",
            "iter 1100 loss 5.2335941616131105\n",
            "iter 1200 loss 5.301733805773955\n",
            "iter 1300 loss 5.425043092563828\n",
            "iter 1400 loss 5.563532588866504\n",
            "iter 1500 loss 5.674104653978888\n",
            "iter 1600 loss 5.766717175667469\n",
            "iter 1700 loss 5.811973537612424\n",
            "iter 1800 loss 5.886798513359258\n",
            "iter 1900 loss 5.984566305606758\n",
            "iter 2000 loss 6.058408785765914\n",
            "iter 2100 loss 6.114354801456001\n",
            "iter 2200 loss 6.11930601868181\n",
            "iter 2300 loss 6.134217204839341\n",
            "iter 2400 loss 6.164368944682463\n",
            "iter 2500 loss 6.198814274644146\n",
            "iter 2600 loss 6.214419428406656\n",
            "iter 2700 loss 6.227675436029431\n",
            "iter 2800 loss 6.249850680852779\n",
            "iter 2900 loss 6.271404192575871\n",
            "iter 3000 loss 6.307822810495269\n",
            "iter 3100 loss 6.319488418108031\n",
            "iter 3200 loss 6.348312967524086\n",
            "iter 3300 loss 6.360488730835142\n",
            "iter 3400 loss 6.3915476287876425\n",
            "iter 3500 loss 6.429052519588871\n",
            "iter 3600 loss 6.475146595826251\n",
            "iter 3700 loss 6.508753690654218\n",
            "iter 3800 loss 6.547958870909146\n",
            "iter 3900 loss 6.5739757939275485\n",
            "iter 4000 loss 6.585805962790968\n",
            "iter 4100 loss 6.575379068888969\n",
            "iter 4200 loss 6.596891643425817\n",
            "iter 4300 loss 6.6236320254733965\n",
            "iter 4400 loss 6.65286407641215\n",
            "iter 4500 loss 6.683915119963311\n",
            "iter 4600 loss 6.711729348385964\n",
            "iter 4700 loss 6.737362340083149\n",
            "iter 4800 loss 6.751031831903176\n",
            "iter 4900 loss 6.7474854550381576\n",
            "iter 5000 loss 6.751627760913414\n",
            "iter 5100 loss 6.768778529588532\n",
            "iter 5200 loss 6.777474038000635\n",
            "iter 5300 loss 6.784868527725943\n",
            "iter 5400 loss 6.812751086078029\n",
            "iter 5500 loss 6.832316687460965\n",
            "iter 5600 loss 6.821660669520165\n",
            "iter 5700 loss 6.819361708280685\n",
            "iter 5800 loss 6.832816463645173\n",
            "iter 5900 loss 6.837408973001621\n",
            "iter 6000 loss 6.838063594237544\n",
            "iter 6100 loss 6.822297000563588\n",
            "iter 6200 loss 6.8106898601459624\n",
            "iter 6300 loss 6.808888236575989\n",
            "iter 6400 loss 6.803299016918806\n",
            "iter 6500 loss 6.824339992884323\n",
            "iter 6600 loss 6.812734375427463\n",
            "iter 6700 loss 6.8060381877842175\n",
            "iter 6800 loss 6.807015099147368\n",
            "iter 6900 loss 6.7981818527428075\n",
            "iter 7000 loss 6.790824017457801\n",
            "iter 7100 loss 6.786061923796149\n",
            "iter 7200 loss 6.783655176728389\n",
            "iter 7300 loss 6.781603108418508\n",
            "iter 7400 loss 6.781697576009105\n",
            "iter 7500 loss 6.786153598783525\n",
            "iter 7600 loss 6.786373359065293\n",
            "iter 7700 loss 6.788465914892974\n",
            "iter 7800 loss 6.785633139469856\n",
            "iter 7900 loss 6.773738356134346\n",
            "iter 8000 loss 6.763834340600517\n",
            "iter 8100 loss 6.745350309657161\n",
            "iter 8200 loss 6.737550248486751\n",
            "iter 8300 loss 6.739006404527884\n",
            "iter 8400 loss 6.7369731302567\n",
            "iter 8500 loss 6.728804846820853\n",
            "iter 8600 loss 6.732620395642909\n",
            "iter 8700 loss 6.721321160804128\n",
            "iter 8800 loss 6.719725456339787\n",
            "iter 8900 loss 6.7137761141708525\n",
            "iter 9000 loss 6.714071763179631\n",
            "iter 9100 loss 6.707199106932524\n",
            "iter 9200 loss 6.7023437531528725\n",
            "iter 9300 loss 6.695960911569794\n",
            "iter 9400 loss 6.698188507303939\n",
            "iter 9500 loss 6.695561283949789\n",
            "iter 9600 loss 6.697271377028258\n",
            "iter 9700 loss 6.695063708440113\n",
            "iter 9800 loss 6.702189210212032\n",
            "iter 9900 loss 6.701001222775255\n",
            "iter 10000 loss 6.700896705461018\n",
            "iter 10100 loss 6.699885773379641\n",
            "iter 10200 loss 6.694773432270894\n",
            "iter 10300 loss 6.693244929241794\n",
            "iter 10400 loss 6.685637549421166\n",
            "iter 10500 loss 6.687006689133434\n",
            "iter 10600 loss 6.685246899770393\n",
            "iter 10700 loss 6.673584461549144\n",
            "iter 10800 loss 6.672861851000607\n",
            "iter 10900 loss 6.667336044965146\n",
            "iter 11000 loss 6.662794648698867\n",
            "iter 11100 loss 6.66021543823645\n",
            "iter 11200 loss 6.6580047033805\n",
            "iter 11300 loss 6.651715332821358\n",
            "iter 11400 loss 6.651381476420958\n",
            "iter 11500 loss 6.652942411690295\n",
            "epoch 0 loss 6.651218970904115\n",
            "iter 0 loss 6.946094989776611\n",
            "iter 100 loss 5.302437118374475\n",
            "iter 200 loss 5.25779735626866\n",
            "iter 300 loss 5.280491928721583\n",
            "iter 400 loss 5.370759955962697\n",
            "iter 500 loss 5.384318036233593\n",
            "iter 600 loss 5.37866806250047\n",
            "iter 700 loss 5.358615931362636\n",
            "iter 800 loss 5.330520480387517\n",
            "iter 900 loss 5.354910330555415\n",
            "iter 1000 loss 5.3552230400638985\n",
            "iter 1100 loss 5.338743637086694\n",
            "iter 1200 loss 5.322593802268261\n",
            "iter 1300 loss 5.30766689223019\n",
            "iter 1400 loss 5.3352194369732695\n",
            "iter 1500 loss 5.354400821481841\n",
            "iter 1600 loss 5.383186140036598\n",
            "iter 1700 loss 5.387457754035895\n",
            "iter 1800 loss 5.4061649204425715\n",
            "iter 1900 loss 5.449488771206325\n",
            "iter 2000 loss 5.476343788217748\n",
            "iter 2100 loss 5.489137447629299\n",
            "iter 2200 loss 5.474407942795526\n",
            "iter 2300 loss 5.46388860380375\n",
            "iter 2400 loss 5.468464841399775\n",
            "iter 2500 loss 5.476815562160527\n",
            "iter 2600 loss 5.467627071798054\n",
            "iter 2700 loss 5.464901544857096\n",
            "iter 2800 loss 5.464313928845184\n",
            "iter 2900 loss 5.46484560035336\n",
            "iter 3000 loss 5.469590041973876\n",
            "iter 3100 loss 5.4720441764283665\n",
            "iter 3200 loss 5.482886249229186\n",
            "iter 3300 loss 5.487189179341095\n",
            "iter 3400 loss 5.498370255601297\n",
            "iter 3500 loss 5.5072761027600485\n",
            "iter 3600 loss 5.520907454964387\n",
            "iter 3700 loss 5.530302068239223\n",
            "iter 3800 loss 5.5453149576040985\n",
            "iter 3900 loss 5.563688285280209\n",
            "iter 4000 loss 5.563850771580836\n",
            "iter 4100 loss 5.55727858728416\n",
            "iter 4200 loss 5.569743097701036\n",
            "iter 4300 loss 5.589734273209347\n",
            "iter 4400 loss 5.602907168278773\n",
            "iter 4500 loss 5.617934811389385\n",
            "iter 4600 loss 5.632534847295017\n",
            "iter 4700 loss 5.647045556642076\n",
            "iter 4800 loss 5.655587554530436\n",
            "iter 4900 loss 5.654539031225719\n",
            "iter 5000 loss 5.657922119927202\n",
            "iter 5100 loss 5.669148892993858\n",
            "iter 5200 loss 5.678032377429294\n",
            "iter 5300 loss 5.68194427903003\n",
            "iter 5400 loss 5.698469381197981\n",
            "iter 5500 loss 5.706552840318274\n",
            "iter 5600 loss 5.704658013175713\n",
            "iter 5700 loss 5.706180079953333\n",
            "iter 5800 loss 5.7167574334372695\n",
            "iter 5900 loss 5.718391773867781\n",
            "iter 6000 loss 5.721096734174429\n",
            "iter 6100 loss 5.713749531638796\n",
            "iter 6200 loss 5.709375422335579\n",
            "iter 6300 loss 5.711224596574371\n",
            "iter 6400 loss 5.712219113917896\n",
            "iter 6500 loss 5.731593468884765\n",
            "iter 6600 loss 5.725404900193232\n",
            "iter 6700 loss 5.72486932299294\n",
            "iter 6800 loss 5.72767518138889\n",
            "iter 6900 loss 5.724072909587502\n",
            "iter 7000 loss 5.720511006770041\n",
            "iter 7100 loss 5.720966801725128\n",
            "iter 7200 loss 5.722953516097553\n",
            "iter 7300 loss 5.724340823893187\n",
            "iter 7400 loss 5.7266122469336995\n",
            "iter 7500 loss 5.730922962185415\n",
            "iter 7600 loss 5.734685107550014\n",
            "iter 7700 loss 5.737588287429243\n",
            "iter 7800 loss 5.737952780553949\n",
            "iter 7900 loss 5.731811250407339\n",
            "iter 8000 loss 5.72861337748904\n",
            "iter 8100 loss 5.716669975931358\n",
            "iter 8200 loss 5.714947635517544\n",
            "iter 8300 loss 5.719794706556685\n",
            "iter 8400 loss 5.720630324698533\n",
            "iter 8500 loss 5.718947667806882\n",
            "iter 8600 loss 5.725526883960837\n",
            "iter 8700 loss 5.719048694291617\n",
            "iter 8800 loss 5.720991130834031\n",
            "iter 8900 loss 5.7180407126523605\n",
            "iter 9000 loss 5.720590564012262\n",
            "iter 9100 loss 5.719694605775226\n",
            "iter 9200 loss 5.718983817765822\n",
            "iter 9300 loss 5.715506950212081\n",
            "iter 9400 loss 5.71954066684469\n",
            "iter 9500 loss 5.720551954587627\n",
            "iter 9600 loss 5.726088255575554\n",
            "iter 9700 loss 5.727073764929439\n",
            "iter 9800 loss 5.735645179106452\n",
            "iter 9900 loss 5.738460785995745\n",
            "iter 10000 loss 5.741420621052943\n",
            "iter 10100 loss 5.7429802685683935\n",
            "iter 10200 loss 5.7419716728988694\n",
            "iter 10300 loss 5.744348655061437\n",
            "iter 10400 loss 5.7423400798361754\n",
            "iter 10500 loss 5.74873230079789\n",
            "iter 10600 loss 5.750454526716848\n",
            "iter 10700 loss 5.743771090832016\n",
            "iter 10800 loss 5.745983127402151\n",
            "iter 10900 loss 5.745038965797438\n",
            "iter 11000 loss 5.744916987567043\n",
            "iter 11100 loss 5.746203472585616\n",
            "iter 11200 loss 5.747098481675875\n",
            "iter 11300 loss 5.745144723234594\n",
            "iter 11400 loss 5.747132686904811\n",
            "iter 11500 loss 5.751585907653024\n",
            "epoch 1 loss 5.750292539858118\n"
          ]
        }
      ],
      "source": [
        "train_rnn(rnn, optimizer_rnn, criterion_rnn, TRAIN, RNN_NUM_EPOCHS)"
      ]
    },
    {
      "cell_type": "markdown",
      "metadata": {
        "editable": false,
        "id": "R5JxdK30Cv8u",
        "tags": []
      },
      "source": [
        "## RNN---Test (20 Points)"
      ]
    },
    {
      "cell_type": "markdown",
      "metadata": {
        "editable": false,
        "id": "L7yKgJmZ5iZ5",
        "tags": []
      },
      "source": [
        "Even if loss went down, we can't make any guarantees about what the network will do on unseen sequences. To evaluate, we will measure **perplexity**, how much the network is confused by data. As you adjust hyperparameters and retrain the model you may notice that a model with a lower loss on training data doesn't necessarily produce a model with lower perplexity on test data."
      ]
    },
    {
      "cell_type": "code",
      "execution_count": 34,
      "metadata": {
        "editable": false,
        "id": "Ztoctsl_lu1r",
        "tags": [
          "raises-exception"
        ],
        "colab": {
          "base_uri": "https://localhost:8080/"
        },
        "outputId": "97cfb812-f6af-4d1d-af77-9270aa1c9e6d"
      },
      "outputs": [
        {
          "output_type": "stream",
          "name": "stdout",
          "text": [
            "Perplexity:  tensor(1093.5680)\n",
            "Test D: 20/20\n"
          ]
        }
      ],
      "source": [
        "# student check - the following test must return a value < 2000 to receive full credit (no partial credit)\n",
        "ag.evaluate_rnn(rnn, TEST, criterion_rnn)"
      ]
    },
    {
      "cell_type": "markdown",
      "metadata": {
        "editable": false,
        "id": "fPbSy48UCzws",
        "tags": []
      },
      "source": [
        "## RNN---Generate (10 Points)"
      ]
    },
    {
      "cell_type": "markdown",
      "metadata": {
        "editable": false,
        "id": "g8oloDU5C2-S",
        "tags": []
      },
      "source": [
        "Let's use the RNN to generate some text. This is going to take a bit of set up. We need to take an input prompt---the start of the text---and tokenize it. Then we need a hidden state that represents the prompt, so we have to run the input prompt through the RNN to build up the hidden state. Then we can finally let the RNN loose to generate new text by feeding the outputs of the RNN (and the hidden state) back into the RNN as inputs."
      ]
    },
    {
      "cell_type": "code",
      "execution_count": 35,
      "metadata": {
        "editable": false,
        "id": "QMlveLOcm8A9",
        "tags": [
          "raises-exception"
        ],
        "colab": {
          "base_uri": "https://localhost:8080/"
        },
        "outputId": "1d13ebfe-f1d9-4576-8ee7-bfb3007c3184"
      },
      "outputs": [
        {
          "output_type": "stream",
          "name": "stdout",
          "text": [
            "input prompt: the First War began\n",
            "input tokens: [2, 14, 15, 16] \n",
            "\n",
            "Prepping hidden state:\n",
            "\n",
            "current token: 2 the\n",
            "predicted next token: 2 the \n",
            "\n",
            "current token: 14 first\n",
            "predicted next token: 2 the \n",
            "\n",
            "current token: 15 war\n",
            "predicted next token: 2 the \n",
            "\n",
            "current token: 16 began\n",
            "predicted next token: 2 the \n",
            "\n",
            "Generating continuation:\n",
            "\n",
            "current token: 16 began\n",
            "predicted next token: 2 the \n",
            "\n",
            "current token: 2 the\n",
            "predicted next token: 2 the \n",
            "\n",
            "current token: 2 the\n",
            "predicted next token: 2 the \n",
            "\n",
            "current token: 2 the\n",
            "predicted next token: 2 the \n",
            "\n",
            "current token: 2 the\n",
            "predicted next token: 2 the \n",
            "\n",
            "current token: 2 the\n",
            "predicted next token: 2 the \n",
            "\n",
            "current token: 2 the\n",
            "predicted next token: 2 the \n",
            "\n",
            "current token: 2 the\n",
            "predicted next token: 2 the \n",
            "\n",
            "current token: 2 the\n",
            "predicted next token: 2 the \n",
            "\n",
            "current token: 2 the\n",
            "predicted next token: 2 the \n",
            "\n",
            "Final continuation:\n",
            "[2, 2, 2, 2, 2, 2, 2, 2, 2, 2]\n",
            "['the', 'the', 'the', 'the', 'the', 'the', 'the', 'the', 'the', 'the']\n",
            "Final:\n",
            "the First War began the the the the the the the the the the\n"
          ]
        }
      ],
      "source": [
        "# Example input prompt:\n",
        "input_prompt = \"the First War began\"\n",
        "# How long should the continuation be?\n",
        "num_new_tokens = 10\n",
        "\n",
        "# Normalize the input\n",
        "normalized_input = normalize_string(input_prompt)\n",
        "# Tokenize the input\n",
        "tokenized_input = [VOCAB.word2index(w) for w in normalized_input.split()]\n",
        "print(\"input prompt:\", input_prompt)\n",
        "print(\"input tokens:\", tokenized_input, '\\n')\n",
        "\n",
        "# We need to make a hidden_state that is representative of what is in the input prompt\n",
        "def prep_hidden_state(tokenized_input, rnn, verbose=False):\n",
        "  # Get an initial hidden state\n",
        "  hidden_state = rnn.init_hidden()\n",
        "  # Run the input prompt through the RNN to build up the hidden state.\n",
        "  # Discard the outputs (we are not trying to make predictions) until we get to the end\n",
        "  for token in tokenized_input:\n",
        "    if verbose:\n",
        "      print(\"current token:\", token, VOCAB.index2word(token))\n",
        "    # Get the one-hot for the current token\n",
        "    x = token2onehot(token)\n",
        "    x = x.float()\n",
        "    # Run the current one-hot and hidden state through the RNN\n",
        "    output, hidden_state = rnn(x, hidden_state)\n",
        "    # Get the highest predicted token\n",
        "    next_token = output.argmax().item()\n",
        "    if verbose:\n",
        "      print(\"predicted next token:\", next_token, VOCAB.index2word(next_token), '\\n')\n",
        "  return hidden_state\n",
        "\n",
        "# Get the hidden state that represents the input prompt\n",
        "print(\"Prepping hidden state:\\n\")\n",
        "hidden_state = prep_hidden_state(tokenized_input, rnn, verbose=True)\n",
        "\n",
        "# Generate a continuation by sampling from the RNN and then feeding the predicted output\n",
        "# back into the RNN over and over. The default sampling is argmax.\n",
        "def generate_rnn(rnn, num_new_tokens, token, hidden_state, fn=lambda d:d.argmax().item(), verbose=False):\n",
        "  # Keep generating more by feeding the predicted output back into the RNN as input\n",
        "  # Start with the last token of the input prompt and the newly prepped hidden state\n",
        "  if verbose:\n",
        "    print(\"Generating continuation:\\n\")\n",
        "  continuation = []\n",
        "  for n in range(num_new_tokens):\n",
        "    if verbose:\n",
        "      print(\"current token:\", token, VOCAB.index2word(token))\n",
        "    # Get the one-hot for the current token\n",
        "    x = token2onehot(token)\n",
        "    x = x.float()\n",
        "    # Run the current one-hot through the RNN\n",
        "    output, hidden_state = rnn(x, hidden_state)\n",
        "    # Predict the next token\n",
        "    next_token = fn(output)\n",
        "    if verbose:\n",
        "      print(\"predicted next token:\", next_token, VOCAB.index2word(next_token), '\\n')\n",
        "    # Remember the new token\n",
        "    continuation.append(next_token)\n",
        "    # update the current\n",
        "    token = next_token\n",
        "  return continuation\n",
        "\n",
        "# Generate the continuation. Use the argmax function to sample from the RNN's outputs\n",
        "token = tokenized_input[-1]\n",
        "continuation = generate_rnn(rnn, num_new_tokens, token, hidden_state, verbose=True)\n",
        "\n",
        "# All done\n",
        "print(\"Final continuation:\")\n",
        "print(continuation)\n",
        "continuation_text = [VOCAB.index2word(t) for t in continuation]\n",
        "print(continuation_text)\n",
        "print(\"Final:\")\n",
        "print(input_prompt + ' ' + ' '.join(continuation_text))"
      ]
    },
    {
      "cell_type": "markdown",
      "metadata": {
        "editable": false,
        "id": "D7AaCW1qwgT-",
        "tags": []
      },
      "source": [
        "Odds are good that you got an output that was highly repetitive. This is in part because we always take the `argmax` of the output logits. There are sequences in the corpus that are highly probable, so by sampling the most likely logit, we are going to get trapped in a local max."
      ]
    },
    {
      "cell_type": "markdown",
      "metadata": {
        "editable": false,
        "id": "2YCYDJPo4-gi",
        "tags": []
      },
      "source": [
        "Instead, we need to treat the output of the RNN as a distribution and *sample* from the distribution to proabilisticially choose the next token, proportional to how highly activated each token is.\n",
        "\n",
        "**Complete the following function.** `my_sample()` should take a tensor of log probabilities for each token in the the vocabulary (the output of the RNN). It should probabilistically sample from this distribution and return a highly probable next token as an integer.\n",
        "\n",
        "**Hints:** Consider using `torch.multinomial`. Remember, your input is in log scale."
      ]
    },
    {
      "cell_type": "code",
      "execution_count": 46,
      "metadata": {
        "editable": true,
        "id": "Nu-_4kGv4Yv8",
        "nbgrader": {
          "grade": false,
          "grade_id": "cell-69f4926e06aa0885",
          "locked": false,
          "schema_version": 3,
          "solution": true,
          "task": false
        },
        "tags": [
          "raises-exception"
        ]
      },
      "outputs": [],
      "source": [
        "def my_sample(log_probs):\n",
        "  token = None\n",
        "  ### BEGIN SOLUTION\n",
        "  # apply inverse to get probabilities\n",
        "  token = torch.multinomial(torch.exp(log_probs), 1)\n",
        "  #print(token)\n",
        "  token = token.item()\n",
        "  ### END SOLUTION\n",
        "  return token"
      ]
    },
    {
      "cell_type": "code",
      "execution_count": 47,
      "metadata": {
        "editable": false,
        "id": "iop8mlR7gShH",
        "tags": [
          "raises-exception"
        ],
        "colab": {
          "base_uri": "https://localhost:8080/"
        },
        "outputId": "1a3cf82e-8d00-41e7-eb6a-99dcdf47561f"
      },
      "outputs": [
        {
          "output_type": "stream",
          "name": "stdout",
          "text": [
            "Score:  96\n",
            "Test E: 10/10\n"
          ]
        }
      ],
      "source": [
        "# student check - the following test must return a value > 90 to receive full credit (no partial credit)\n",
        "ag.unit_test_my_sample()"
      ]
    },
    {
      "cell_type": "markdown",
      "metadata": {
        "editable": false,
        "id": "GA_n9Dr6Bmhp",
        "tags": []
      },
      "source": [
        "Run the cell below a few times and see what gets generated with your sampling technique."
      ]
    },
    {
      "cell_type": "code",
      "execution_count": 48,
      "metadata": {
        "editable": false,
        "id": "brCksz3sw4cr",
        "tags": [
          "raises-exception"
        ],
        "colab": {
          "base_uri": "https://localhost:8080/"
        },
        "outputId": "129693f8-db71-40ed-b908-3d43cfa1219d"
      },
      "outputs": [
        {
          "output_type": "stream",
          "name": "stdout",
          "text": [
            "input prompt: the First War began\n",
            "input tokens: [2, 14, 15, 16] \n",
            "\n",
            "Generating continuation:\n",
            "\n",
            "current token: 16 began\n",
            "predicted next token: 13 that \n",
            "\n",
            "current token: 13 that\n",
            "predicted next token: 1097 merciful \n",
            "\n",
            "current token: 1097 merciful\n",
            "predicted next token: 22 and \n",
            "\n",
            "current token: 22 and\n",
            "predicted next token: 662 must \n",
            "\n",
            "current token: 662 must\n",
            "predicted next token: 309 under \n",
            "\n",
            "current token: 309 under\n",
            "predicted next token: 5 of \n",
            "\n",
            "current token: 5 of\n",
            "predicted next token: 32 earth \n",
            "\n",
            "current token: 32 earth\n",
            "predicted next token: 221 while \n",
            "\n",
            "current token: 221 while\n",
            "predicted next token: 35 melkor \n",
            "\n",
            "current token: 35 melkor\n",
            "predicted next token: 9 is \n",
            "\n",
            "Final continuation:\n",
            "[13, 1097, 22, 662, 309, 5, 32, 221, 35, 9]\n",
            "that merciful and must under of earth while melkor is\n",
            "Final:\n",
            "the First War began that merciful and must under of earth while melkor is\n"
          ]
        }
      ],
      "source": [
        "# Example input prompt:\n",
        "input_prompt = \"the First War began\"\n",
        "# How long should the continuation be?\n",
        "num_new_tokens = 10\n",
        "\n",
        "# Normalize the input\n",
        "normalized_input = normalize_string(input_prompt)\n",
        "# Tokenize the input\n",
        "tokenized_input = [VOCAB.word2index(w) for w in normalized_input.split()]\n",
        "print(\"input prompt:\", input_prompt)\n",
        "print(\"input tokens:\", tokenized_input, '\\n')\n",
        "# Get an initial hidden state\n",
        "hidden_state = prep_hidden_state(tokenized_input, rnn)\n",
        "\n",
        "# Generate the continuation. Use my_sample\n",
        "token = tokenized_input[-1]\n",
        "continuation = generate_rnn(rnn, num_new_tokens, token, hidden_state, fn=my_sample, verbose=True)\n",
        "\n",
        "# All done\n",
        "print(\"Final continuation:\")\n",
        "print(continuation)\n",
        "continuation_text = [VOCAB.index2word(t) for t in continuation]\n",
        "print(' '.join(continuation_text))\n",
        "print(\"Final:\")\n",
        "print(input_prompt + ' ' + ' '.join(continuation_text))"
      ]
    },
    {
      "cell_type": "markdown",
      "metadata": {
        "editable": false,
        "id": "BUPq4bIjRV3i",
        "tags": []
      },
      "source": [
        "## RNN---Optimize (10 Points)"
      ]
    },
    {
      "cell_type": "markdown",
      "metadata": {
        "editable": false,
        "id": "k-yYCls275hX",
        "tags": []
      },
      "source": [
        "Well, that is probably crazy and non-sensical. If the distribution has a lot of nearly-equal probability candidates, the sampling technique you wrote probably makes some choices that look random. But it probably isn't stuck in a local max.\n",
        "\n",
        "How do we fix this? We introduce something called **temperature**. Temperature is a value between 0.0 and 1.0 that makes higher probability tokens more probable and less probable tokens less probable.\n",
        "\n",
        "**Complete the following function.** It should operate exactly like `my_sample()` except that it should divide the probabilities (between 0.0 and 1.0) by temperature.\n",
        "\n",
        "Dividing by `temperature=1.0` leaves the probability distribution unchanged. As temperature gets smaller, approaching 0.0, the high probability tokens approach infinity faster than low probability tokens. The distribution spreads out along an exponential curve."
      ]
    },
    {
      "cell_type": "code",
      "execution_count": 59,
      "metadata": {
        "editable": true,
        "id": "AB-26jCc-hvX",
        "nbgrader": {
          "grade": false,
          "grade_id": "cell-7a18829f8109ede9",
          "locked": false,
          "schema_version": 3,
          "solution": true,
          "task": false
        },
        "tags": [
          "raises-exception"
        ]
      },
      "outputs": [],
      "source": [
        "def my_temperature_sample(log_probs, temperature=1.0):\n",
        "  token = None\n",
        "  ### BEGIN SOLUTION\n",
        "  # normal probabilities\n",
        "  adjusted_prob = torch.exp(log_probs/temperature)\n",
        "  token = torch.multinomial(adjusted_prob, 1)\n",
        "  #print(token)\n",
        "  token = token.item()\n",
        "  ### END SOLUTION\n",
        "  return token"
      ]
    },
    {
      "cell_type": "code",
      "execution_count": 54,
      "metadata": {
        "editable": false,
        "id": "spkbQciwhgM0",
        "tags": [
          "raises-exception"
        ],
        "colab": {
          "base_uri": "https://localhost:8080/"
        },
        "outputId": "22a8709f-25dc-48d7-abca-048e841fe8f9"
      },
      "outputs": [
        {
          "output_type": "stream",
          "name": "stdout",
          "text": [
            "p-value:  0.0\n",
            "Test F: 10/10\n"
          ]
        }
      ],
      "source": [
        "# student check - the following test must return True to receive full credit (no partial credit)\n",
        "ag.unit_test_my_temperature_sample()"
      ]
    },
    {
      "cell_type": "markdown",
      "metadata": {
        "editable": false,
        "id": "uhnhTbWIBEl0",
        "tags": []
      },
      "source": [
        "One more time. This time, play around with the temperature value"
      ]
    },
    {
      "cell_type": "code",
      "execution_count": 55,
      "metadata": {
        "editable": true,
        "id": "UmMpnUNxCOVM",
        "tags": [
          "raises-exception"
        ]
      },
      "outputs": [],
      "source": [
        "# set the temperature - it's ok to modify this cell\n",
        "RNN_TEMPERATURE = 0.5"
      ]
    },
    {
      "cell_type": "code",
      "execution_count": 56,
      "metadata": {
        "editable": false,
        "id": "fXT4cW4BBJWV",
        "tags": [
          "raises-exception"
        ],
        "colab": {
          "base_uri": "https://localhost:8080/"
        },
        "outputId": "866bf292-9c83-42b0-8020-2736d7a77d90"
      },
      "outputs": [
        {
          "output_type": "stream",
          "name": "stdout",
          "text": [
            "input prompt: the First War began\n",
            "input tokens: [2, 14, 15, 16] \n",
            "\n",
            "Generating continuation:\n",
            "\n",
            "current token: 16 began\n",
            "predicted next token: 2 the \n",
            "\n",
            "current token: 2 the\n",
            "predicted next token: 2 the \n",
            "\n",
            "current token: 2 the\n",
            "predicted next token: 2 the \n",
            "\n",
            "current token: 2 the\n",
            "predicted next token: 2 the \n",
            "\n",
            "current token: 2 the\n",
            "predicted next token: 2 the \n",
            "\n",
            "current token: 2 the\n",
            "predicted next token: 5 of \n",
            "\n",
            "current token: 5 of\n",
            "predicted next token: 39 . \n",
            "\n",
            "current token: 39 .\n",
            "predicted next token: 2 the \n",
            "\n",
            "current token: 2 the\n",
            "predicted next token: 22 and \n",
            "\n",
            "current token: 22 and\n",
            "predicted next token: 22 and \n",
            "\n",
            "Final continuation:\n",
            "[2, 2, 2, 2, 2, 5, 39, 2, 22, 22]\n",
            "the the the the the of . the and and\n",
            "Final:\n",
            "the First War began the the the the the of . the and and\n"
          ]
        }
      ],
      "source": [
        "# Example input prompt:\n",
        "input_prompt = \"the First War began\"\n",
        "# How long should the continuation be?\n",
        "num_new_tokens = 10\n",
        "\n",
        "# Normalize the input\n",
        "normalized_input = normalize_string(input_prompt)\n",
        "# Tokenize the input\n",
        "tokenized_input = [VOCAB.word2index(w) for w in normalized_input.split()]\n",
        "print(\"input prompt:\", input_prompt)\n",
        "print(\"input tokens:\", tokenized_input, '\\n')\n",
        "# Get an initial hidden state\n",
        "hidden_state = prep_hidden_state(tokenized_input, rnn)\n",
        "\n",
        "# Generate the continuation. Use my_sample\n",
        "token = tokenized_input[-1]\n",
        "continuation = generate_rnn(rnn, num_new_tokens, token, hidden_state, fn=lambda d:my_temperature_sample(d, RNN_TEMPERATURE), verbose=True)\n",
        "\n",
        "# All done\n",
        "print(\"Final continuation:\")\n",
        "print(continuation)\n",
        "continuation_text = [VOCAB.index2word(t) for t in continuation]\n",
        "print(' '.join(continuation_text))\n",
        "print(\"Final:\")\n",
        "print(input_prompt + ' ' + ' '.join(continuation_text))"
      ]
    },
    {
      "cell_type": "markdown",
      "metadata": {
        "editable": false,
        "id": "qXU9cSZjRV3k",
        "tags": []
      },
      "source": [
        "# Grading\n",
        "\n",
        "Please submit this .ipynb file to Canvas for grading."
      ]
    },
    {
      "cell_type": "markdown",
      "metadata": {
        "collapsed": false,
        "editable": false,
        "tags": [],
        "id": "8Uw0dCijhLQa"
      },
      "source": [
        "## Final Grade"
      ]
    },
    {
      "cell_type": "code",
      "execution_count": 57,
      "metadata": {
        "editable": false,
        "tags": [
          "raises-exception"
        ],
        "colab": {
          "base_uri": "https://localhost:8080/"
        },
        "id": "XNsBlbYyhLQa",
        "outputId": "8c48b477-86e0-4fe2-8b8d-c405d631baef"
      },
      "outputs": [
        {
          "output_type": "stream",
          "name": "stdout",
          "text": [
            "Your projected points for this assignment is 150/70.\n",
            "\n",
            "NOTE: THIS IS NOT YOUR FINAL GRADE. YOUR FINAL GRADE FOR THIS ASSIGNMENT WILL BE AT LEAST 150 OR MORE, BUT NOT LESS\n",
            "\n"
          ]
        }
      ],
      "source": [
        "# student check\n",
        "ag.final_grade()"
      ]
    },
    {
      "cell_type": "markdown",
      "metadata": {
        "collapsed": false,
        "editable": false,
        "tags": [],
        "id": "gDYpMg1ShLQa"
      },
      "source": [
        "## Notebook Runtime"
      ]
    },
    {
      "cell_type": "code",
      "execution_count": 58,
      "metadata": {
        "editable": false,
        "tags": [
          "raises-exception"
        ],
        "colab": {
          "base_uri": "https://localhost:8080/"
        },
        "id": "aH45rY3WhLQa",
        "outputId": "7b0fafb7-f505-4a2b-c60d-966f1f3e8389"
      },
      "outputs": [
        {
          "output_type": "stream",
          "name": "stdout",
          "text": [
            "Notebook execution time in minutes = 38.50269825458527\n",
            "WARNING: Notebook execution time is greater than 30 minutes. Your submission may not complete auto-grading on Gradescope. Please optimize your code to reduce the notebook execution time.\n"
          ]
        }
      ],
      "source": [
        "# end time - notebook execution\n",
        "end_nb = time.time()\n",
        "# print notebook execution time in minutes\n",
        "print(\"Notebook execution time in minutes =\", (end_nb - start_nb)/60)\n",
        "# warn student if notebook execution time is greater than 30 minutes\n",
        "if (end_nb - start_nb)/60 > 30:\n",
        "  print(\"WARNING: Notebook execution time is greater than 30 minutes. Your submission may not complete auto-grading on Gradescope. Please optimize your code to reduce the notebook execution time.\")"
      ]
    }
  ],
  "metadata": {
    "accelerator": "GPU",
    "colab": {
      "provenance": [],
      "include_colab_link": true
    },
    "kernelspec": {
      "display_name": "Python 3 (ipykernel)",
      "language": "python",
      "name": "python3"
    },
    "language_info": {
      "codemirror_mode": {
        "name": "ipython",
        "version": 3
      },
      "file_extension": ".py",
      "mimetype": "text/x-python",
      "name": "python",
      "nbconvert_exporter": "python",
      "pygments_lexer": "ipython3",
      "version": "3.8.1"
    }
  },
  "nbformat": 4,
  "nbformat_minor": 0
}