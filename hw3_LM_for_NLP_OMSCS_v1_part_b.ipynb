{
  "cells": [
    {
      "cell_type": "markdown",
      "metadata": {
        "id": "view-in-github",
        "colab_type": "text"
      },
      "source": [
        "<a href=\"https://colab.research.google.com/github/snalluri12/backend/blob/main/hw3_LM_for_NLP_OMSCS_v1_part_b.ipynb\" target=\"_parent\"><img src=\"https://colab.research.google.com/assets/colab-badge.svg\" alt=\"Open In Colab\"/></a>"
      ]
    },
    {
      "cell_type": "markdown",
      "metadata": {
        "editable": false,
        "id": "UT-whgM5YV8X",
        "tags": []
      },
      "source": [
        "# Language Modeling\n",
        "\n",
        "A language model attempts to approximate the underlying statistics of a text corpus $P(tok_n | tok_1, tok_2, ..., tok_{n-1}; \\theta)$ where $\\theta$ is a set of learned parameters/weights. For the purposes of this notebook, tokens will be words. Language models can be used for a variety of applications, one of which being text generation. In this assignement we will be looking at language modeling techniques of increasing sophistication.\n",
        "\n",
        "**Tips:**\n",
        "- Read all the code. We don't ask you to write the training loops, evaluation loops, and generation loops, but it is often instructive to see how the models are trained and evaluated.\n",
        "- If you have a model that is learning (loss is decreasing), but you want to increase accuracy, try using ``nn.Dropout`` layers just before the final linear layer to force the model to handle missing or unfamiliar data."
      ]
    },
    {
      "cell_type": "code",
      "execution_count": 164,
      "metadata": {
        "editable": false,
        "is_executing": true,
        "jupyter": {
          "outputs_hidden": false
        },
        "tags": [
          "raises-exception"
        ],
        "id": "hJXAfh7sHVZw"
      },
      "outputs": [],
      "source": [
        "# start time - notebook execution\n",
        "import time\n",
        "start_nb = time.time()"
      ]
    },
    {
      "cell_type": "markdown",
      "metadata": {
        "editable": false,
        "id": "VeQWnSY8CgT1",
        "tags": []
      },
      "source": [
        "# Set up"
      ]
    },
    {
      "cell_type": "markdown",
      "metadata": {
        "editable": false,
        "id": "vcoLFG32u68g",
        "tags": []
      },
      "source": [
        "Import packages"
      ]
    },
    {
      "cell_type": "code",
      "execution_count": 165,
      "metadata": {
        "editable": false,
        "id": "us-v9ZxoTHV1",
        "tags": [
          "raises-exception"
        ]
      },
      "outputs": [],
      "source": [
        "import matplotlib.pyplot as plt\n",
        "import numpy as np\n",
        "import os\n",
        "import re\n",
        "import torch\n",
        "import torch.nn as nn\n",
        "from torch import optim\n",
        "from torch.optim.lr_scheduler import ExponentialLR\n",
        "import torch.nn.functional as F\n",
        "import unicodedata\n",
        "\n",
        "# ignore all warnings\n",
        "import warnings\n",
        "warnings.filterwarnings('ignore')"
      ]
    },
    {
      "cell_type": "markdown",
      "metadata": {
        "collapsed": false,
        "editable": false,
        "jupyter": {
          "outputs_hidden": false
        },
        "tags": [],
        "id": "tZeAYnM3HVZy"
      },
      "source": [
        "# Initialize the Autograder"
      ]
    },
    {
      "cell_type": "code",
      "execution_count": 166,
      "metadata": {
        "editable": false,
        "jupyter": {
          "outputs_hidden": false
        },
        "tags": [
          "raises-exception"
        ],
        "id": "oIdkrxTQHVZy"
      },
      "outputs": [],
      "source": [
        "# import the autograder tests\n",
        "import hw3b_tests as ag"
      ]
    },
    {
      "cell_type": "markdown",
      "metadata": {
        "editable": false,
        "id": "Fp1_pgBuY5zT",
        "tags": []
      },
      "source": [
        "We will build a *vocabulary*, which will act as a dictionary of all the words our systems will know about. It will also allow us to map words to tokens, which will be unique indexes in the vocabulary. This will further allow us to transform words into one-hot vectors, where a word is represented as a vector of the same length as the vocabulary wherein all values are zeros except for the *i*th element, where *i* is the token number of the word."
      ]
    },
    {
      "cell_type": "code",
      "execution_count": 167,
      "metadata": {
        "editable": false,
        "id": "1ybnRLpOTYwi",
        "tags": [
          "raises-exception"
        ]
      },
      "outputs": [],
      "source": [
        "class Vocab:\n",
        "    def __init__(self, name):\n",
        "        self.name = name                             # The name of the vocabulary\n",
        "        self._word2index = {}                        # Map words to token index\n",
        "        self._word2count = {}                        # Track how many times a word occurs in a corpus\n",
        "        self._index2word = {0: \"SOS\", 1: \"EOS\"}      # Map token indexs back into words\n",
        "        self._n_words = 2 # Count SOS and EOS        # Number of unique words in the corpus\n",
        "\n",
        "    # Get a list of all words\n",
        "    def get_words(self):\n",
        "      return list(self._word2count.keys())\n",
        "\n",
        "    # Get the number of words\n",
        "    def num_words(self):\n",
        "      return self._n_words\n",
        "\n",
        "    # Convert a word into a token index\n",
        "    def word2index(self, word):\n",
        "      return self._word2index[word]\n",
        "\n",
        "    # Convert a token into a word\n",
        "    def index2word(self, word):\n",
        "      return self._index2word[word]\n",
        "\n",
        "    # Get the number of times a word occurs\n",
        "    def word2count(self, word):\n",
        "      return self._word2count[word]\n",
        "\n",
        "    # Add all the words in a sentence to the vocabulary\n",
        "    def add_sentence(self, sentence):\n",
        "        for word in sentence.split(' '):\n",
        "            self.add_word(word)\n",
        "\n",
        "    # Add a single word to the vocabulary\n",
        "    def add_word(self, word):\n",
        "        if word not in self._word2index:\n",
        "            self._word2index[word] = self._n_words\n",
        "            self._word2count[word] = 1\n",
        "            self._index2word[self._n_words] = word\n",
        "            self._n_words += 1\n",
        "        else:\n",
        "            self._word2count[word] += 1"
      ]
    },
    {
      "cell_type": "markdown",
      "metadata": {
        "editable": false,
        "id": "8L7cXWAYacx3",
        "tags": []
      },
      "source": [
        "These are some helper functions to *normalize* texts, ie, make the text regular and remove some of the more problematic exceptions found in texts. This normalizer will make all words lowercase, trim plurals, and remove non-letter characters."
      ]
    },
    {
      "cell_type": "code",
      "execution_count": 168,
      "metadata": {
        "editable": false,
        "id": "SpAin8FuTsNr",
        "tags": [
          "raises-exception"
        ]
      },
      "outputs": [],
      "source": [
        "# Convert any unicode to ascii\n",
        "def unicode_to_ascii(s):\n",
        "    return ''.join(\n",
        "        c for c in unicodedata.normalize('NFD', s)\n",
        "        if unicodedata.category(c) != 'Mn'\n",
        "    )\n",
        "\n",
        "# Lowercase, trim, and remove non-letter characters\n",
        "def normalize_string(s):\n",
        "    s = unicode_to_ascii(s.lower().strip())\n",
        "    s = re.sub(r\"([.!?])\", r\" \\1\", s)\n",
        "    s = re.sub(r\"[^a-zA-Z.!?]+\", r\" \", s)\n",
        "    return s"
      ]
    },
    {
      "cell_type": "markdown",
      "metadata": {
        "editable": false,
        "id": "0G1p53AuazDJ",
        "tags": []
      },
      "source": [
        "Download a corpus. This corpus is the ascii text of the book, *The Silmarillion*, by J.R.R. Tolkein. It has a lot of non-common words and names to illustrate how language models deal with such things."
      ]
    },
    {
      "cell_type": "code",
      "execution_count": 169,
      "metadata": {
        "editable": false,
        "id": "i6IA64U3T3K7",
        "tags": [
          "raises-exception"
        ]
      },
      "outputs": [],
      "source": [
        "# if data.txt is not in the current directory, download it\n",
        "if not os.path.isfile('data.txt'):\n",
        "  !wget -O data.txt https://www.dropbox.com/s/pgvn1n7t4sjxt8r/silmarillion?dl=1"
      ]
    },
    {
      "cell_type": "markdown",
      "metadata": {
        "editable": false,
        "id": "EEhv3LTxb1If",
        "tags": []
      },
      "source": [
        "Let's read in the data and take a look at it."
      ]
    },
    {
      "cell_type": "code",
      "execution_count": 170,
      "metadata": {
        "colab": {
          "base_uri": "https://localhost:8080/",
          "height": 178
        },
        "editable": false,
        "id": "AfzYspyHUT7k",
        "outputId": "4318f30e-37c5-4f48-b24b-5492bb4983b8",
        "tags": [
          "raises-exception"
        ]
      },
      "outputs": [
        {
          "output_type": "execute_result",
          "data": {
            "text/plain": [
              "'The Silmarillon Chapter 1\\n\\n\\nOf the Beginning of Days It is told among the wise that the First War began before Arda was full-shaped, and ere yet there was any thing that grew or walked upon earth; and for long Melkor had the upper hand. But in the midst of the war a spirit of great strength and hardihood came to the aid of the Valar, hearing in the far heaven that there was battle in the Little Kingdom; and Arda was filled with the sound of his laughter. So came Tulkas the Strong, whose anger passes like a mighty wind, scattering cloud and darkness before it; and Melkor fled before his wrath and his laughter, and forsook Arda, and there was peace for a long age. And Tulkas remained and became one of the Valar of the Kingdom of Arda; but Melkor brooded in the outer darkness, and his hate was given to Tulkas for ever after.\\n\\nIn that time the Valar brought order to the seas and the lands and the mountains, and Yavanna planted at last the seeds that she had long devised. And since, when th'"
            ],
            "application/vnd.google.colaboratory.intrinsic+json": {
              "type": "string"
            }
          },
          "metadata": {},
          "execution_count": 170
        }
      ],
      "source": [
        "filename = 'data.txt'\n",
        "with open(filename, encoding='utf-8') as f:\n",
        "  text = f.read()\n",
        "text[:1000]"
      ]
    },
    {
      "cell_type": "markdown",
      "metadata": {
        "editable": false,
        "id": "rPga6_LmcDWJ",
        "tags": []
      },
      "source": [
        "Normalize the text and build the vocabulary"
      ]
    },
    {
      "cell_type": "code",
      "execution_count": 171,
      "metadata": {
        "editable": false,
        "id": "FV_ib2sZYMqo",
        "tags": [
          "raises-exception"
        ]
      },
      "outputs": [],
      "source": [
        "normalized_text = normalize_string(text)\n",
        "VOCAB = Vocab(\"text\")\n",
        "VOCAB.add_sentence(normalized_text)"
      ]
    },
    {
      "cell_type": "markdown",
      "metadata": {
        "editable": false,
        "id": "VBei0ecBcHAy",
        "tags": []
      },
      "source": [
        "Make training and testing data splits."
      ]
    },
    {
      "cell_type": "code",
      "execution_count": 172,
      "metadata": {
        "colab": {
          "base_uri": "https://localhost:8080/"
        },
        "editable": false,
        "id": "HMc-3xncyc_Q",
        "outputId": "df43858c-4294-43f5-c529-bde2851a1a18",
        "tags": [
          "raises-exception"
        ]
      },
      "outputs": [
        {
          "output_type": "stream",
          "name": "stdout",
          "text": [
            "The first 100 tokens\n",
            "[ 2  3  4  5  2  6  5  7  8  9 10 11  2 12 13  2 14 15 16 17 18 19 20 21\n",
            " 22 23 24 25 19 26 27 13 28 29 30 31 32 22 33 34 35 36  2 37 38 39 40 41\n",
            "  2 42  5  2 15 43 44  5 45 46 22 47 48 49  2 50  5  2 51 52 41  2 53 54\n",
            " 13 25 19 55 41  2 56 57 22 18 19 58 59  2 60  5 61 62 39 63 48 64  2 65\n",
            " 66 67 68 69]\n"
          ]
        }
      ],
      "source": [
        "# Convert every word into a token and build a numpy array of tokens\n",
        "encoded_text = np.array([VOCAB.word2index(word) for word in normalized_text.split()])\n",
        "print(\"The first 100 tokens\")\n",
        "print(encoded_text[:100])\n",
        "# get the validation and the training data\n",
        "test_split = 0.1\n",
        "test_idx = int(len(encoded_text) * (1 - test_split))\n",
        "TRAIN = encoded_text[:test_idx]\n",
        "TEST = encoded_text[test_idx:]\n",
        "# Decrease the size of the training set to make the assignment more tractable\n",
        "TRAIN = TRAIN[:len(TRAIN)//10]"
      ]
    },
    {
      "cell_type": "markdown",
      "metadata": {
        "editable": false,
        "id": "NbdKluXiFs3G",
        "tags": []
      },
      "source": [
        "# LSTM (20 Points)\n",
        "\n",
        "A more sophisticated version of an RNN is a Long Short-Term Memory network (or an LSTM). It learns to decided what should be kept in the hidden state and what should be removed from the hidden state. This allows it to make better hidden states and thus learn a more accurate probability distribution and be a better generator.\n",
        "\n",
        "We will make two LSTMs. First, we will make a neural network that uses Pytorch's built in `nn.LSTMCell`. The second time, we will write an LSTM memory cell from scratch.\n",
        "\n",
        "**Complete the following network with two or more LSTMCell layers.** The network will take two inputs in its forward function:\n",
        "- `x`: a sequence of words, represented as one-hots. The input should be a tensor of shape `1 x vocab_size` That is, each row is a one-hot (batch size is 1).\n",
        "- `hc` which is a tuple containing (hidden_state, cell_state).\n",
        "\n",
        "The output of the forward function will be:\n",
        "- A sequence of output log probabilities. This output should be a tensor of shape `1 x vocab_size` where each row is a log probability distribution.\n",
        "- A tuple containing (hidden_state, cell_state).\n",
        "\n",
        "The network should contain two our more LSTMCell modules. Send the one-hot into the first LSTMCell along with the original `hc`. Then send the resulting hidden state to the next higher LSTMCell *along with the initial `hc`*. Keep doing this until you get to the top of the stack of LSTMCells. Once you get to the top of the stack, use an affine transformation to expand to vocabular size and generate a log probability with a log softmax.\n",
        "\n",
        "Forward should return the output log probabilities and a (hidden state, cell state) tuple."
      ]
    },
    {
      "cell_type": "code",
      "execution_count": 173,
      "metadata": {
        "editable": true,
        "id": "75ICSfVyO9Vw",
        "tags": [
          "raises-exception"
        ]
      },
      "outputs": [],
      "source": [
        "# build the model using the pytorch nn module\n",
        "class MyLSTM(nn.ModuleList):\n",
        "  def __init__(self, input_size, hidden_size, cell_type = nn.LSTMCell):\n",
        "    super(MyLSTM, self).__init__()\n",
        "\n",
        "    # init the parameters\n",
        "    self.hidden_dim = hidden_size\n",
        "    self.input_size = input_size\n",
        "\n",
        "    ### Use the cell_type passed into the constructor as the type of LSTM cell module\n",
        "    ### that is made. For the first part of the assignment, this will be the\n",
        "    ### default nn.LSTMCell. For the second part, this will be the custom-written\n",
        "    ### LSTM cell type.\n",
        "\n",
        "    ### BEGIN SOLUTION\n",
        "    self.cell1 = cell_type(input_size, hidden_size)\n",
        "    self.cell2 = cell_type(hidden_size, hidden_size)\n",
        "    self.output = nn.Linear(hidden_size, input_size)\n",
        "    ### END SOLUTION\n",
        "\n",
        "  def forward(self, x, hc):\n",
        "    # Return values\n",
        "    output = None\n",
        "    hidden = None\n",
        "    cell = None\n",
        "\n",
        "    # Pass the hidden and the cell state from one lstm cell to the next one\n",
        "    # we also feed the output of the first layer lstm cell at time step t to the second layer cell\n",
        "    # init both layer cells with the zero hidden and zero cell states\n",
        "\n",
        "    ### BEGIN SOLUTION\n",
        "    # first LSTM cell\n",
        "    hidden_init, cell_init = hc\n",
        "    #print(hidden_state.shape)\n",
        "    hidden0, cell0 = self.cell1(x, (hidden_init, cell_init))\n",
        "    # second LSTM cell: resulting hidden state from cell 0\n",
        "    hidden, cell = self.cell2(hidden0, (hidden_init, cell_init))\n",
        "    linear = self.output(hidden)\n",
        "    output = F.log_softmax(linear, dim=1)\n",
        "\n",
        "    ### END SOLUTION\n",
        "\n",
        "    return output, (hidden.detach(), cell.detach())\n",
        "\n",
        "  def init_hidden(self):\n",
        "    # initialize the hidden state and the cell state to zeros\n",
        "    return (torch.zeros(1, self.hidden_dim), # 1 is the batch size\n",
        "            torch.zeros(1, self.hidden_dim)) # 1 is the batch size\n"
      ]
    },
    {
      "cell_type": "markdown",
      "metadata": {
        "editable": false,
        "id": "5sNibJA1K93Q",
        "tags": []
      },
      "source": [
        "Let's build our LSTM"
      ]
    },
    {
      "cell_type": "code",
      "execution_count": 174,
      "metadata": {
        "editable": true,
        "id": "_es9Jos-Qz8A",
        "tags": []
      },
      "outputs": [],
      "source": [
        "# It's ok to change this cell, however, you should not need to change it much (if at all) - note: certain changes may break the autograder, e.g.,\n",
        "# increasing the size of the hidden layer could cause out of memory errors in the autograder and large numbers of epochs could cause autograder to time\n",
        "# out (pay attention to the runtime of your notebook and the warnings that are printed out at the end of the notebook)\n",
        "LSTM_HIDDEN_SIZE = 50\n",
        "LSTM_NUM_EPOCHS = 4\n",
        "LSTM_LEARNING_RATE = 0.01"
      ]
    },
    {
      "cell_type": "code",
      "execution_count": 175,
      "metadata": {
        "editable": false,
        "id": "n3Q2Z4BFQv-V",
        "tags": [
          "raises-exception"
        ]
      },
      "outputs": [],
      "source": [
        "lstm = MyLSTM(VOCAB.num_words(), LSTM_HIDDEN_SIZE)\n",
        "optimizer_lstm = optim.SGD(lstm.parameters(), lr=LSTM_LEARNING_RATE)\n",
        "criterion_lstm = nn.NLLLoss()"
      ]
    },
    {
      "cell_type": "code",
      "execution_count": 176,
      "metadata": {
        "colab": {
          "base_uri": "https://localhost:8080/"
        },
        "editable": false,
        "id": "PJh3pC-EXCAo",
        "outputId": "4bd47f3f-a079-42c8-f30f-c34c452939e4",
        "tags": [
          "raises-exception"
        ]
      },
      "outputs": [
        {
          "output_type": "stream",
          "name": "stdout",
          "text": [
            "Number of layers found, 5, is correct.\n",
            "Test A: 5/5\n"
          ]
        }
      ],
      "source": [
        "# student check - the following test must return a value of 3 to receive credit (5 pts)\n",
        "ag.LSTM_check()"
      ]
    },
    {
      "cell_type": "code",
      "execution_count": 177,
      "metadata": {
        "colab": {
          "base_uri": "https://localhost:8080/"
        },
        "editable": false,
        "id": "MQXazww3Tct5",
        "outputId": "95624897-0703-4a29-945d-115440bc0238",
        "scrolled": true,
        "tags": [
          "raises-exception"
        ],
        "collapsed": true
      },
      "outputs": [
        {
          "output_type": "stream",
          "name": "stdout",
          "text": [
            "torch.Size([1, 100]) torch.Size([1, 50]) torch.Size([1, 50])\n",
            "NllLossBackward0\n",
            "LogSoftmaxBackward0\n",
            "AddmmBackward0\n",
            "AccumulateGrad\n",
            "MulBackward0\n",
            "SigmoidBackward0\n",
            "UnsafeSplitBackward0\n",
            "AddBackward0\n",
            "AddmmBackward0\n",
            "AccumulateGrad\n",
            "TBackward0\n",
            "AccumulateGrad\n",
            "AddmmBackward0\n",
            "AccumulateGrad\n",
            "MulBackward0\n",
            "SigmoidBackward0\n",
            "UnsafeSplitBackward0\n",
            "AddBackward0\n",
            "AddmmBackward0\n",
            "AccumulateGrad\n",
            "TBackward0\n",
            "AccumulateGrad\n",
            "AddmmBackward0\n",
            "AccumulateGrad\n",
            "TBackward0\n",
            "AccumulateGrad\n",
            "TanhBackward0\n",
            "AddBackward0\n",
            "MulBackward0\n",
            "SigmoidBackward0\n",
            "UnsafeSplitBackward0\n",
            "AddBackward0\n",
            "AddmmBackward0\n",
            "AccumulateGrad\n",
            "TBackward0\n",
            "AccumulateGrad\n",
            "AddmmBackward0\n",
            "AccumulateGrad\n",
            "TBackward0\n",
            "AccumulateGrad\n",
            "MulBackward0\n",
            "SigmoidBackward0\n",
            "UnsafeSplitBackward0\n",
            "AddBackward0\n",
            "AddmmBackward0\n",
            "AccumulateGrad\n",
            "TBackward0\n",
            "AccumulateGrad\n",
            "AddmmBackward0\n",
            "AccumulateGrad\n",
            "TBackward0\n",
            "AccumulateGrad\n",
            "TanhBackward0\n",
            "UnsafeSplitBackward0\n",
            "AddBackward0\n",
            "AddmmBackward0\n",
            "AccumulateGrad\n",
            "TBackward0\n",
            "AccumulateGrad\n",
            "AddmmBackward0\n",
            "AccumulateGrad\n",
            "TBackward0\n",
            "AccumulateGrad\n",
            "TBackward0\n",
            "AccumulateGrad\n",
            "TanhBackward0\n",
            "AddBackward0\n",
            "MulBackward0\n",
            "SigmoidBackward0\n",
            "UnsafeSplitBackward0\n",
            "AddBackward0\n",
            "AddmmBackward0\n",
            "AccumulateGrad\n",
            "TBackward0\n",
            "AccumulateGrad\n",
            "AddmmBackward0\n",
            "AccumulateGrad\n",
            "MulBackward0\n",
            "SigmoidBackward0\n",
            "UnsafeSplitBackward0\n",
            "AddBackward0\n",
            "AddmmBackward0\n",
            "AccumulateGrad\n",
            "TBackward0\n",
            "AccumulateGrad\n",
            "AddmmBackward0\n",
            "AccumulateGrad\n",
            "TBackward0\n",
            "AccumulateGrad\n",
            "TanhBackward0\n",
            "AddBackward0\n",
            "MulBackward0\n",
            "SigmoidBackward0\n",
            "UnsafeSplitBackward0\n",
            "AddBackward0\n",
            "AddmmBackward0\n",
            "AccumulateGrad\n",
            "TBackward0\n",
            "AccumulateGrad\n",
            "AddmmBackward0\n",
            "AccumulateGrad\n",
            "TBackward0\n",
            "AccumulateGrad\n",
            "MulBackward0\n",
            "SigmoidBackward0\n",
            "UnsafeSplitBackward0\n",
            "AddBackward0\n",
            "AddmmBackward0\n",
            "AccumulateGrad\n",
            "TBackward0\n",
            "AccumulateGrad\n",
            "AddmmBackward0\n",
            "AccumulateGrad\n",
            "TBackward0\n",
            "AccumulateGrad\n",
            "TanhBackward0\n",
            "UnsafeSplitBackward0\n",
            "AddBackward0\n",
            "AddmmBackward0\n",
            "AccumulateGrad\n",
            "TBackward0\n",
            "AccumulateGrad\n",
            "AddmmBackward0\n",
            "AccumulateGrad\n",
            "TBackward0\n",
            "AccumulateGrad\n",
            "TBackward0\n",
            "AccumulateGrad\n",
            "MulBackward0\n",
            "SigmoidBackward0\n",
            "UnsafeSplitBackward0\n",
            "AddBackward0\n",
            "AddmmBackward0\n",
            "AccumulateGrad\n",
            "TBackward0\n",
            "AccumulateGrad\n",
            "AddmmBackward0\n",
            "AccumulateGrad\n",
            "MulBackward0\n",
            "SigmoidBackward0\n",
            "UnsafeSplitBackward0\n",
            "AddBackward0\n",
            "AddmmBackward0\n",
            "AccumulateGrad\n",
            "TBackward0\n",
            "AccumulateGrad\n",
            "AddmmBackward0\n",
            "AccumulateGrad\n",
            "TBackward0\n",
            "AccumulateGrad\n",
            "TanhBackward0\n",
            "AddBackward0\n",
            "MulBackward0\n",
            "SigmoidBackward0\n",
            "UnsafeSplitBackward0\n",
            "AddBackward0\n",
            "AddmmBackward0\n",
            "AccumulateGrad\n",
            "TBackward0\n",
            "AccumulateGrad\n",
            "AddmmBackward0\n",
            "AccumulateGrad\n",
            "TBackward0\n",
            "AccumulateGrad\n",
            "MulBackward0\n",
            "SigmoidBackward0\n",
            "UnsafeSplitBackward0\n",
            "AddBackward0\n",
            "AddmmBackward0\n",
            "AccumulateGrad\n",
            "TBackward0\n",
            "AccumulateGrad\n",
            "AddmmBackward0\n",
            "AccumulateGrad\n",
            "TBackward0\n",
            "AccumulateGrad\n",
            "TanhBackward0\n",
            "UnsafeSplitBackward0\n",
            "AddBackward0\n",
            "AddmmBackward0\n",
            "AccumulateGrad\n",
            "TBackward0\n",
            "AccumulateGrad\n",
            "AddmmBackward0\n",
            "AccumulateGrad\n",
            "TBackward0\n",
            "AccumulateGrad\n",
            "TBackward0\n",
            "AccumulateGrad\n",
            "TanhBackward0\n",
            "UnsafeSplitBackward0\n",
            "AddBackward0\n",
            "AddmmBackward0\n",
            "AccumulateGrad\n",
            "TBackward0\n",
            "AccumulateGrad\n",
            "AddmmBackward0\n",
            "AccumulateGrad\n",
            "MulBackward0\n",
            "SigmoidBackward0\n",
            "UnsafeSplitBackward0\n",
            "AddBackward0\n",
            "AddmmBackward0\n",
            "AccumulateGrad\n",
            "TBackward0\n",
            "AccumulateGrad\n",
            "AddmmBackward0\n",
            "AccumulateGrad\n",
            "TBackward0\n",
            "AccumulateGrad\n",
            "TanhBackward0\n",
            "AddBackward0\n",
            "MulBackward0\n",
            "SigmoidBackward0\n",
            "UnsafeSplitBackward0\n",
            "AddBackward0\n",
            "AddmmBackward0\n",
            "AccumulateGrad\n",
            "TBackward0\n",
            "AccumulateGrad\n",
            "AddmmBackward0\n",
            "AccumulateGrad\n",
            "TBackward0\n",
            "AccumulateGrad\n",
            "MulBackward0\n",
            "SigmoidBackward0\n",
            "UnsafeSplitBackward0\n",
            "AddBackward0\n",
            "AddmmBackward0\n",
            "AccumulateGrad\n",
            "TBackward0\n",
            "AccumulateGrad\n",
            "AddmmBackward0\n",
            "AccumulateGrad\n",
            "TBackward0\n",
            "AccumulateGrad\n",
            "TanhBackward0\n",
            "UnsafeSplitBackward0\n",
            "AddBackward0\n",
            "AddmmBackward0\n",
            "AccumulateGrad\n",
            "TBackward0\n",
            "AccumulateGrad\n",
            "AddmmBackward0\n",
            "AccumulateGrad\n",
            "TBackward0\n",
            "AccumulateGrad\n",
            "TBackward0\n",
            "AccumulateGrad\n",
            "TBackward0\n",
            "AccumulateGrad\n",
            "NllLossBackward0\n",
            "LogSoftmaxBackward0\n",
            "AddmmBackward0\n",
            "AccumulateGrad\n",
            "MulBackward0\n",
            "SigmoidBackward0\n",
            "UnsafeSplitBackward0\n",
            "AddBackward0\n",
            "AddmmBackward0\n",
            "AccumulateGrad\n",
            "TBackward0\n",
            "AccumulateGrad\n",
            "AddmmBackward0\n",
            "AccumulateGrad\n",
            "MulBackward0\n",
            "SigmoidBackward0\n",
            "UnsafeSplitBackward0\n",
            "AddBackward0\n",
            "AddmmBackward0\n",
            "AccumulateGrad\n",
            "TBackward0\n",
            "AccumulateGrad\n",
            "AddmmBackward0\n",
            "AccumulateGrad\n",
            "TBackward0\n",
            "AccumulateGrad\n",
            "TanhBackward0\n",
            "AddBackward0\n",
            "MulBackward0\n",
            "SigmoidBackward0\n",
            "UnsafeSplitBackward0\n",
            "AddBackward0\n",
            "AddmmBackward0\n",
            "AccumulateGrad\n",
            "TBackward0\n",
            "AccumulateGrad\n",
            "AddmmBackward0\n",
            "AccumulateGrad\n",
            "TBackward0\n",
            "AccumulateGrad\n",
            "MulBackward0\n",
            "SigmoidBackward0\n",
            "UnsafeSplitBackward0\n",
            "AddBackward0\n",
            "AddmmBackward0\n",
            "AccumulateGrad\n",
            "TBackward0\n",
            "AccumulateGrad\n",
            "AddmmBackward0\n",
            "AccumulateGrad\n",
            "TBackward0\n",
            "AccumulateGrad\n",
            "TanhBackward0\n",
            "UnsafeSplitBackward0\n",
            "AddBackward0\n",
            "AddmmBackward0\n",
            "AccumulateGrad\n",
            "TBackward0\n",
            "AccumulateGrad\n",
            "AddmmBackward0\n",
            "AccumulateGrad\n",
            "TBackward0\n",
            "AccumulateGrad\n",
            "TBackward0\n",
            "AccumulateGrad\n",
            "TanhBackward0\n",
            "AddBackward0\n",
            "MulBackward0\n",
            "SigmoidBackward0\n",
            "UnsafeSplitBackward0\n",
            "AddBackward0\n",
            "AddmmBackward0\n",
            "AccumulateGrad\n",
            "TBackward0\n",
            "AccumulateGrad\n",
            "AddmmBackward0\n",
            "AccumulateGrad\n",
            "MulBackward0\n",
            "SigmoidBackward0\n",
            "UnsafeSplitBackward0\n",
            "AddBackward0\n",
            "AddmmBackward0\n",
            "AccumulateGrad\n",
            "TBackward0\n",
            "AccumulateGrad\n",
            "AddmmBackward0\n",
            "AccumulateGrad\n",
            "TBackward0\n",
            "AccumulateGrad\n",
            "TanhBackward0\n",
            "AddBackward0\n",
            "MulBackward0\n",
            "SigmoidBackward0\n",
            "UnsafeSplitBackward0\n",
            "AddBackward0\n",
            "AddmmBackward0\n",
            "AccumulateGrad\n",
            "TBackward0\n",
            "AccumulateGrad\n",
            "AddmmBackward0\n",
            "AccumulateGrad\n",
            "TBackward0\n",
            "AccumulateGrad\n",
            "MulBackward0\n",
            "SigmoidBackward0\n",
            "UnsafeSplitBackward0\n",
            "AddBackward0\n",
            "AddmmBackward0\n",
            "AccumulateGrad\n",
            "TBackward0\n",
            "AccumulateGrad\n",
            "AddmmBackward0\n",
            "AccumulateGrad\n",
            "TBackward0\n",
            "AccumulateGrad\n",
            "TanhBackward0\n",
            "UnsafeSplitBackward0\n",
            "AddBackward0\n",
            "AddmmBackward0\n",
            "AccumulateGrad\n",
            "TBackward0\n",
            "AccumulateGrad\n",
            "AddmmBackward0\n",
            "AccumulateGrad\n",
            "TBackward0\n",
            "AccumulateGrad\n",
            "TBackward0\n",
            "AccumulateGrad\n",
            "MulBackward0\n",
            "SigmoidBackward0\n",
            "UnsafeSplitBackward0\n",
            "AddBackward0\n",
            "AddmmBackward0\n",
            "AccumulateGrad\n",
            "TBackward0\n",
            "AccumulateGrad\n",
            "AddmmBackward0\n",
            "AccumulateGrad\n",
            "MulBackward0\n",
            "SigmoidBackward0\n",
            "UnsafeSplitBackward0\n",
            "AddBackward0\n",
            "AddmmBackward0\n",
            "AccumulateGrad\n",
            "TBackward0\n",
            "AccumulateGrad\n",
            "AddmmBackward0\n",
            "AccumulateGrad\n",
            "TBackward0\n",
            "AccumulateGrad\n",
            "TanhBackward0\n",
            "AddBackward0\n",
            "MulBackward0\n",
            "SigmoidBackward0\n",
            "UnsafeSplitBackward0\n",
            "AddBackward0\n",
            "AddmmBackward0\n",
            "AccumulateGrad\n",
            "TBackward0\n",
            "AccumulateGrad\n",
            "AddmmBackward0\n",
            "AccumulateGrad\n",
            "TBackward0\n",
            "AccumulateGrad\n",
            "MulBackward0\n",
            "SigmoidBackward0\n",
            "UnsafeSplitBackward0\n",
            "AddBackward0\n",
            "AddmmBackward0\n",
            "AccumulateGrad\n",
            "TBackward0\n",
            "AccumulateGrad\n",
            "AddmmBackward0\n",
            "AccumulateGrad\n",
            "TBackward0\n",
            "AccumulateGrad\n",
            "TanhBackward0\n",
            "UnsafeSplitBackward0\n",
            "AddBackward0\n",
            "AddmmBackward0\n",
            "AccumulateGrad\n",
            "TBackward0\n",
            "AccumulateGrad\n",
            "AddmmBackward0\n",
            "AccumulateGrad\n",
            "TBackward0\n",
            "AccumulateGrad\n",
            "TBackward0\n",
            "AccumulateGrad\n",
            "TanhBackward0\n",
            "UnsafeSplitBackward0\n",
            "AddBackward0\n",
            "AddmmBackward0\n",
            "AccumulateGrad\n",
            "TBackward0\n",
            "AccumulateGrad\n",
            "AddmmBackward0\n",
            "AccumulateGrad\n",
            "MulBackward0\n",
            "SigmoidBackward0\n",
            "UnsafeSplitBackward0\n",
            "AddBackward0\n",
            "AddmmBackward0\n",
            "AccumulateGrad\n",
            "TBackward0\n",
            "AccumulateGrad\n",
            "AddmmBackward0\n",
            "AccumulateGrad\n",
            "TBackward0\n",
            "AccumulateGrad\n",
            "TanhBackward0\n",
            "AddBackward0\n",
            "MulBackward0\n",
            "SigmoidBackward0\n",
            "UnsafeSplitBackward0\n",
            "AddBackward0\n",
            "AddmmBackward0\n",
            "AccumulateGrad\n",
            "TBackward0\n",
            "AccumulateGrad\n",
            "AddmmBackward0\n",
            "AccumulateGrad\n",
            "TBackward0\n",
            "AccumulateGrad\n",
            "MulBackward0\n",
            "SigmoidBackward0\n",
            "UnsafeSplitBackward0\n",
            "AddBackward0\n",
            "AddmmBackward0\n",
            "AccumulateGrad\n",
            "TBackward0\n",
            "AccumulateGrad\n",
            "AddmmBackward0\n",
            "AccumulateGrad\n",
            "TBackward0\n",
            "AccumulateGrad\n",
            "TanhBackward0\n",
            "UnsafeSplitBackward0\n",
            "AddBackward0\n",
            "AddmmBackward0\n",
            "AccumulateGrad\n",
            "TBackward0\n",
            "AccumulateGrad\n",
            "AddmmBackward0\n",
            "AccumulateGrad\n",
            "TBackward0\n",
            "AccumulateGrad\n",
            "TBackward0\n",
            "AccumulateGrad\n",
            "TBackward0\n",
            "AccumulateGrad\n",
            "Number of layers found, 5, is correct.\n",
            "Test B: 5/5\n"
          ]
        }
      ],
      "source": [
        "# student check - the following test must return a value of 5 to receive credit (5 pts)\n",
        "ag.unit_test_LSTM_structure()"
      ]
    },
    {
      "cell_type": "markdown",
      "metadata": {
        "editable": false,
        "id": "M-jsgts9DoMC",
        "tags": []
      },
      "source": [
        "## LSTM---Training"
      ]
    },
    {
      "cell_type": "markdown",
      "metadata": {
        "editable": false,
        "id": "fy9kxSrwAWkL",
        "tags": []
      },
      "source": [
        "Here is the training loop. Notice it uses `get_rnn_x_y()` from HW2.\n"
      ]
    },
    {
      "cell_type": "code",
      "execution_count": 178,
      "metadata": {
        "editable": true,
        "id": "jwgcBtN7Qdda",
        "tags": [
          "raises-exception"
        ]
      },
      "outputs": [],
      "source": [
        "def train_lstm(net, optimizer, criterion, num_epochs, data):\n",
        "  epoch_losses = []\n",
        "  scheduler = ExponentialLR(optimizer, gamma=0.9)\n",
        "  net.train()\n",
        "  for epoch in range(num_epochs):\n",
        "    losses = []\n",
        "    hc = net.init_hidden()\n",
        "    for i in range(len(data)-1):\n",
        "      x, y = ag.get_rnn_x_y(data, i, VOCAB.num_words())\n",
        "      x = x.float()\n",
        "      output, hc = net(x, hc)\n",
        "      loss = criterion(output, y)\n",
        "      losses.append(loss.detach())\n",
        "      optimizer.zero_grad()\n",
        "      loss.backward()\n",
        "      optimizer.step()\n",
        "      if i%1000 == 0:\n",
        "        print('iter', i, 'loss', torch.stack(losses).mean().item())\n",
        "    scheduler.step()\n",
        "    print('epoch', epoch, 'loss', torch.stack(losses).mean().item())\n",
        "    epoch_losses.append(torch.stack(losses).mean().item())\n",
        "  return epoch_losses"
      ]
    },
    {
      "cell_type": "code",
      "execution_count": 179,
      "metadata": {
        "colab": {
          "base_uri": "https://localhost:8080/"
        },
        "editable": false,
        "id": "SSo3W6M0Hopi",
        "outputId": "101a5add-1296-4f48-84aa-1952d0433a78",
        "scrolled": true,
        "tags": [
          "raises-exception"
        ]
      },
      "outputs": [
        {
          "output_type": "stream",
          "name": "stdout",
          "text": [
            "iter 0 loss 8.799407958984375\n",
            "iter 1000 loss 8.512471199035645\n",
            "iter 2000 loss 8.286568641662598\n",
            "iter 3000 loss 7.8360466957092285\n",
            "iter 4000 loss 7.592194557189941\n",
            "iter 5000 loss 7.4146809577941895\n",
            "iter 6000 loss 7.261857986450195\n",
            "iter 7000 loss 7.132044792175293\n",
            "iter 8000 loss 7.022651195526123\n",
            "iter 9000 loss 6.912978172302246\n",
            "iter 10000 loss 6.836582660675049\n",
            "iter 11000 loss 6.76475715637207\n",
            "epoch 0 loss 6.72762393951416\n",
            "iter 0 loss 8.673189163208008\n",
            "iter 1000 loss 6.022003173828125\n",
            "iter 2000 loss 6.026082992553711\n",
            "iter 3000 loss 5.968142986297607\n",
            "iter 4000 loss 5.9905805587768555\n",
            "iter 5000 loss 6.0090155601501465\n",
            "iter 6000 loss 6.013297080993652\n",
            "iter 7000 loss 6.010043621063232\n",
            "iter 8000 loss 6.002552509307861\n",
            "iter 9000 loss 5.979328632354736\n",
            "iter 10000 loss 5.9698920249938965\n",
            "iter 11000 loss 5.954415321350098\n",
            "epoch 1 loss 5.944079875946045\n",
            "iter 0 loss 8.585311889648438\n",
            "iter 1000 loss 5.879137992858887\n",
            "iter 2000 loss 5.8915581703186035\n",
            "iter 3000 loss 5.843772888183594\n",
            "iter 4000 loss 5.875319004058838\n",
            "iter 5000 loss 5.901126861572266\n",
            "iter 6000 loss 5.909697532653809\n",
            "iter 7000 loss 5.910012722015381\n",
            "iter 8000 loss 5.906318664550781\n",
            "iter 9000 loss 5.885485649108887\n",
            "iter 10000 loss 5.878174304962158\n",
            "iter 11000 loss 5.864713668823242\n",
            "epoch 2 loss 5.855322360992432\n",
            "iter 0 loss 8.5343656539917\n",
            "iter 1000 loss 5.8185625076293945\n",
            "iter 2000 loss 5.835151195526123\n",
            "iter 3000 loss 5.790562629699707\n",
            "iter 4000 loss 5.8251519203186035\n",
            "iter 5000 loss 5.853998184204102\n",
            "iter 6000 loss 5.864337921142578\n",
            "iter 7000 loss 5.865488529205322\n",
            "iter 8000 loss 5.8630805015563965\n",
            "iter 9000 loss 5.8424391746521\n",
            "iter 10000 loss 5.8357625007629395\n",
            "iter 11000 loss 5.822894096374512\n",
            "epoch 3 loss 5.813877105712891\n"
          ]
        }
      ],
      "source": [
        "epoch_losses = train_lstm(lstm, optimizer_lstm, criterion_lstm, num_epochs=LSTM_NUM_EPOCHS, data=TRAIN)"
      ]
    },
    {
      "cell_type": "code",
      "execution_count": 180,
      "metadata": {
        "editable": false,
        "jupyter": {
          "outputs_hidden": false
        },
        "tags": [
          "raises-exception"
        ],
        "id": "mJSFP3HtHVZ0",
        "colab": {
          "base_uri": "https://localhost:8080/",
          "height": 467
        },
        "outputId": "bf5194f8-5edf-4bb9-87b5-a6d67c4bb782"
      },
      "outputs": [
        {
          "output_type": "execute_result",
          "data": {
            "text/plain": [
              "[<matplotlib.lines.Line2D at 0x7c1ad0965210>]"
            ]
          },
          "metadata": {},
          "execution_count": 180
        },
        {
          "output_type": "display_data",
          "data": {
            "text/plain": [
              "<Figure size 640x480 with 1 Axes>"
            ],
            "image/png": "[encoded data removed]"
          },
          "metadata": {}
        }
      ],
      "source": [
        "plt.figure(1)\n",
        "plt.clf()\n",
        "plt.xlabel('Epoch')\n",
        "plt.ylabel('Loss')\n",
        "plt.xticks(range(len(epoch_losses)))\n",
        "plt.plot(epoch_losses)"
      ]
    },
    {
      "cell_type": "markdown",
      "metadata": {
        "collapsed": false,
        "editable": false,
        "jupyter": {
          "outputs_hidden": false
        },
        "tags": [],
        "id": "QCDHMS8nHVZ0"
      },
      "source": [
        "You should see a curve that slopes down steeply at first and then levels out to some asymptotic minimum."
      ]
    },
    {
      "cell_type": "markdown",
      "metadata": {
        "editable": false,
        "id": "cu2yQ-jsDtGi",
        "tags": []
      },
      "source": [
        "## LSTM---Testing"
      ]
    },
    {
      "cell_type": "markdown",
      "metadata": {
        "editable": false,
        "id": "Ebr9BQa7Jolv",
        "tags": []
      },
      "source": [
        "Evaluation works the same as with the RNN."
      ]
    },
    {
      "cell_type": "code",
      "execution_count": 181,
      "metadata": {
        "editable": false,
        "id": "XfSf3mGXKCc2",
        "tags": [
          "raises-exception"
        ],
        "colab": {
          "base_uri": "https://localhost:8080/"
        },
        "outputId": "3131053c-df79-4c33-fa21-108e0bf318a9"
      },
      "outputs": [
        {
          "output_type": "stream",
          "name": "stdout",
          "text": [
            "491.7368469238281\n",
            "Perplexity is less than 1000\n",
            "Test C: 10/10\n"
          ]
        }
      ],
      "source": [
        "# student check - the following test must return a value less than 1000 to receive credit (10 pts)\n",
        "ag.eval_lstm_1(max_perplexity=1000)"
      ]
    },
    {
      "cell_type": "markdown",
      "metadata": {
        "editable": false,
        "id": "Nz7K467kDwHi",
        "tags": []
      },
      "source": [
        "## LSTM---Generation"
      ]
    },
    {
      "cell_type": "markdown",
      "metadata": {
        "editable": false,
        "id": "CZ6FHHYiJuZk",
        "tags": []
      },
      "source": [
        "Generation works the same as the RNN. In fact you will notice that we can use the `prep_hidden_state` and `generate_rnn` functions without modification."
      ]
    },
    {
      "cell_type": "code",
      "execution_count": 182,
      "metadata": {
        "editable": true,
        "id": "DpdE9HWvVMhl",
        "tags": [
          "raises-exception"
        ]
      },
      "outputs": [],
      "source": [
        "# It's ok to change this cell\n",
        "LSTM_TEMPERATURE = 0.5"
      ]
    },
    {
      "cell_type": "code",
      "execution_count": 183,
      "metadata": {
        "id": "NO2U8mCQMUxM",
        "tags": [
          "raises-exception"
        ],
        "colab": {
          "base_uri": "https://localhost:8080/"
        },
        "outputId": "068c8538-ee6f-4184-8feb-c1adec23330e"
      },
      "outputs": [
        {
          "output_type": "stream",
          "name": "stdout",
          "text": [
            "input prompt: the First War began\n",
            "input tokens: [2, 14, 15, 16] \n",
            "\n",
            "Prepping hidden state:\n",
            "\n",
            "current token: 2 the\n",
            "predicted next token: 2 the \n",
            "\n",
            "current token: 14 first\n",
            "predicted next token: 2 the \n",
            "\n",
            "current token: 15 war\n",
            "predicted next token: 2 the \n",
            "\n",
            "current token: 16 began\n",
            "predicted next token: 2 the \n",
            "\n",
            "Generating continuation:\n",
            "\n",
            "current token: 16 began\n",
            "predicted next token: 22 and \n",
            "\n",
            "current token: 22 and\n",
            "predicted next token: 2 the \n",
            "\n",
            "current token: 2 the\n",
            "predicted next token: 22 and \n",
            "\n",
            "current token: 22 and\n",
            "predicted next token: 2 the \n",
            "\n",
            "current token: 2 the\n",
            "predicted next token: 39 . \n",
            "\n",
            "current token: 39 .\n",
            "predicted next token: 129 them \n",
            "\n",
            "current token: 129 them\n",
            "predicted next token: 2 the \n",
            "\n",
            "current token: 2 the\n",
            "predicted next token: 22 and \n",
            "\n",
            "current token: 22 and\n",
            "predicted next token: 41 in \n",
            "\n",
            "current token: 41 in\n",
            "predicted next token: 120 which \n",
            "\n",
            "Final continuation:\n",
            "[22, 2, 22, 2, 39, 129, 2, 22, 41, 120]\n",
            "['and', 'the', 'and', 'the', '.', 'them', 'the', 'and', 'in', 'which']\n",
            "Final:\n",
            "the First War began and the and the . them the and in which\n"
          ]
        }
      ],
      "source": [
        "# COPY YOUR HW3-A SOLUTION HERE\n",
        "def token2onehot(token, vocab_size = VOCAB.num_words()):\n",
        "  one_hot = None\n",
        "  ### BEGIN SOLUTION\n",
        "  one_hot = torch.zeros(1,vocab_size)\n",
        "  # assign 1\n",
        "  one_hot[0][token] = 1\n",
        "  ### END SOLUTION\n",
        "  return one_hot\n",
        "\n",
        "# COPIED FROM HW3-A\n",
        "def prep_hidden_state(tokenized_input, rnn, verbose=False):\n",
        "  # Get an initial hidden state\n",
        "  hidden_state = rnn.init_hidden()\n",
        "  # Run the input prompt through the RNN to build up the hidden state.\n",
        "  # Discard the outputs (we are not trying to make predictions) until we get to the end\n",
        "  for token in tokenized_input:\n",
        "    if verbose:\n",
        "      print(\"current token:\", token, VOCAB.index2word(token))\n",
        "    # Get the one-hot for the current token\n",
        "    x = token2onehot(token)\n",
        "    x = x.float()\n",
        "    # Run the current one-hot and hidden state through the RNN\n",
        "    output, hidden_state = rnn(x, hidden_state)\n",
        "    # Get the highest predicted token\n",
        "    next_token = output.argmax().item()\n",
        "    if verbose:\n",
        "      print(\"predicted next token:\", next_token, VOCAB.index2word(next_token), '\\n')\n",
        "  return hidden_state\n",
        "\n",
        "# COPY YOUR HW3-A SOLUTION HERE\n",
        "def my_temperature_sample(log_probs, temperature=1.0):\n",
        "  token = None\n",
        "  ### BEGIN SOLUTION\n",
        "  # normal probabilities\n",
        "  adjusted_prob = torch.exp(log_probs/temperature)\n",
        "  token = torch.multinomial(adjusted_prob, 1)\n",
        "  #print(token)\n",
        "  token = token.item()\n",
        "  ### END SOLUTION\n",
        "  return token\n",
        "\n",
        "# COPIED FROM HW3-A\n",
        "def generate_rnn(rnn, num_new_tokens, token, hidden_state, fn=lambda d:d.argmax().item(), verbose=False):\n",
        "  # Keep generating more by feeding the predicted output back into the RNN as input\n",
        "  # Start with the last token of the input prompt and the newly prepped hidden state\n",
        "  if verbose:\n",
        "    print(\"Generating continuation:\\n\")\n",
        "  continuation = []\n",
        "  for n in range(num_new_tokens):\n",
        "    if verbose:\n",
        "      print(\"current token:\", token, VOCAB.index2word(token))\n",
        "    # Get the one-hot for the current token\n",
        "    x = token2onehot(token)\n",
        "    x = x.float()\n",
        "    # Run the current one-hot through the RNN\n",
        "    output, hidden_state = rnn(x, hidden_state)\n",
        "    # Predict the next token\n",
        "    next_token = fn(output)\n",
        "    if verbose:\n",
        "      print(\"predicted next token:\", next_token, VOCAB.index2word(next_token), '\\n')\n",
        "    # Remember the new token\n",
        "    continuation.append(next_token)\n",
        "    # update the current\n",
        "    token = next_token\n",
        "  return continuation\n",
        "\n",
        "# Example input prompt:\n",
        "input_prompt = \"the First War began\"\n",
        "# How long should the continuation be?\n",
        "num_new_tokens = 10\n",
        "\n",
        "# Normalize the input\n",
        "normalized_input = normalize_string(input_prompt)\n",
        "# Tokenize the input\n",
        "tokenized_input = [VOCAB.word2index(w) for w in normalized_input.split()]\n",
        "print(\"input prompt:\", input_prompt)\n",
        "print(\"input tokens:\", tokenized_input, '\\n')\n",
        "\n",
        "# Get the hidden state that represents the input prompt\n",
        "print(\"Prepping hidden state:\\n\")\n",
        "hidden_state = prep_hidden_state(tokenized_input, lstm, verbose=True)\n",
        "\n",
        "# Generate the continuation. Use the argmax function to sample from the RNN's outputs\n",
        "token = tokenized_input[-1]\n",
        "continuation = generate_rnn(lstm, num_new_tokens, token, hidden_state, fn=lambda d:my_temperature_sample(d, LSTM_TEMPERATURE), verbose=True)\n",
        "\n",
        "# All done\n",
        "print(\"Final continuation:\")\n",
        "print(continuation)\n",
        "continuation_text = [VOCAB.index2word(t) for t in continuation]\n",
        "print(continuation_text)\n",
        "print(\"Final:\")\n",
        "print(input_prompt + ' ' + ' '.join(continuation_text))"
      ]
    },
    {
      "cell_type": "markdown",
      "metadata": {
        "editable": false,
        "id": "k11f76FVDzpb",
        "tags": []
      },
      "source": [
        "# LSTM From Scratch (40 Points)"
      ]
    },
    {
      "cell_type": "markdown",
      "metadata": {
        "editable": false,
        "id": "TfU-uNxxJ3Qi",
        "tags": []
      },
      "source": [
        "Now we do LSTM the hard way---creating the LSTM cells by hand.\n",
        "\n",
        "**Complete the following functions inside the `MyLSTMCell` class.**\n",
        "\n",
        "We have broken the forward function into multiple parts:\n",
        "- Forget gate: determine what of the previous cell state should be discarded (by multiplying 0 or 1 produced by a sigmoid against the cell state).  `forget_gate()` implements $f=\\sigma(W_{i,f}x+b_{i,f} + W_{h,f}h+b_{h,f})$.\n",
        "- Input gate: determine what of the input should be introduced to the cell memory. `input_gate()` implements $i=\\sigma(W_{i,i}x+b_{i,i}+W_{h,i}h+b_{h,i})$\n",
        "- Cell memory: update the previous cell memory state to make a new cell memory state. `cell_memory()` implements $c'=f*c + i*tanh(W_{i,g}x+b_{i,g} + W_{h,g}h + b_{h,g})$.\n",
        "- Output gate: determine what from the current cell memory state. `output_gate()` implements $o=\\sigma(W_{i,o}x+b_{i,o}+W_{h,o}h+b_{h,o})$.\n",
        "- A final function `hidden_out()` will produce the new hidden state by implementing $h'=o*tanh(c')$.\n",
        "\n",
        "You will also need to initialize any linear layer modules, activation functions, etc. in the constructor."
      ]
    },
    {
      "cell_type": "code",
      "execution_count": 184,
      "metadata": {
        "editable": true,
        "id": "KUaVNN3nuUEh",
        "tags": [
          "raises-exception"
        ]
      },
      "outputs": [],
      "source": [
        "class MyLSTMCell(torch.nn.Module):\n",
        "\n",
        "  def __init__(self, input_size=10, hidden_size=64):\n",
        "    super(MyLSTMCell, self).__init__()\n",
        "    self.input_size = input_size\n",
        "    self.hidden_size = hidden_size\n",
        "    ### BEGIN SOLUTION\n",
        "    # forget gate\n",
        "    self.linear_fh = nn.Linear(hidden_size, hidden_size)\n",
        "    self.linear_fi = nn.Linear(input_size, hidden_size)\n",
        "    # g\n",
        "    self.linear_gh = nn.Linear(hidden_size, hidden_size)\n",
        "    self.linear_gi = nn.Linear(input_size, hidden_size)\n",
        "    # input gate\n",
        "    self.linear_ih = nn.Linear(hidden_size, hidden_size)\n",
        "    self.linear_ii = nn.Linear(input_size, hidden_size)\n",
        "    # output gate\n",
        "    self.linear_oh = nn.Linear(hidden_size, hidden_size)\n",
        "    self.linear_oi = nn.Linear(input_size, hidden_size)\n",
        "    ### END SOLUTION\n",
        "\n",
        "  ### The Forget Gate takes in the input (x) and hidden state (h)\n",
        "  ### The input and hidden state pass through their own linear compression layers,\n",
        "  ### then are concatenated and passed through a sigmoid\n",
        "  def forget_gate(self, x, h):\n",
        "    f = None # The gate vector to return\n",
        "    ### BEGIN SOLUTION\n",
        "    # sigmoid activation\n",
        "    linear_h = self.linear_fh(h)\n",
        "    linear_i = self.linear_fi(x)\n",
        "    f = torch.sigmoid(linear_h + linear_i)\n",
        "    ### END SOLUTION\n",
        "    return f\n",
        "\n",
        "  ### The Input Gate takes the input (x) and hidden state (h)\n",
        "  ### The input and hidden state pass through their own linear compression layers,\n",
        "  ### then are concatenated and passed through a sigmoid\n",
        "  def input_gate(self, x, h):\n",
        "    i = None # The gate vector to return\n",
        "    ### BEGIN SOLUTION\n",
        "    linear_h = self.linear_ih(h)\n",
        "    linear_i = self.linear_ii(x)\n",
        "    i = torch.sigmoid(linear_h + linear_i)\n",
        "    ### END SOLUTION\n",
        "    return i\n",
        "\n",
        "  ### The Cell memory gate takes the results from the input gate (i), the results from the forget gate (f)\n",
        "  ### the original input (x), the hidden state(h) and the previous cell state (c_prev).\n",
        "  ### 1. The Cell memory gate compresses the input and hidden and concatenates them and passes it through a Tanh.\n",
        "  ### 2. The resultant intermediate tensor is multiplied by the results from the input gate to determine\n",
        "  ###    what new information is allowed to carry on\n",
        "  ### 3. The results from the forget state are multiplied against the previous cell state (c_prev) to determine\n",
        "  ###    what should be removed from the cell state.\n",
        "  ### 4. The new cell state (c_next) is the new information that survived the input gate and the previous\n",
        "  ###    cell state that survived the forget gate.\n",
        "  ### The new cell state c_next is returned\n",
        "  def cell_memory(self, i, f, x, h, c_prev):\n",
        "    c_next = None\n",
        "    ### BEGIN SOLUTION\n",
        "    linear_h = self.linear_gh(h)\n",
        "    linear_i = self.linear_gi(x)\n",
        "    intermediate = torch.tanh(linear_h + linear_i)\n",
        "    input_tan = i * intermediate\n",
        "    forget_prev = f * c_prev\n",
        "    c_next = input_tan + forget_prev\n",
        "    #print(c_next)\n",
        "    ### END SOLUTION\n",
        "    return c_next\n",
        "\n",
        "  ### The Out gate takes the original input (x) and the hidden state (h)\n",
        "  ### The gate passes the input and hidden through their own compression layers and\n",
        "  ### then concatenates to send through a sigmoid\n",
        "  def out_gate(self, x, h):\n",
        "    o = None # The gate vector to return\n",
        "    ### BEGIN SOLUTION\n",
        "    linear_h = self.linear_oh(h)\n",
        "    linear_i = self.linear_oi(x)\n",
        "    o = torch.sigmoid(linear_h + linear_i)\n",
        "    ### END SOLUTION\n",
        "    return o\n",
        "\n",
        "  ### This function assembles the new hidden state, give the results of the output gate (o)\n",
        "  ### and the new cells sate (c_next).\n",
        "  ### This function runs c_next through a tanh to get a 1 or -1 which will flip some of the\n",
        "  ### elements of the output.\n",
        "  def hidden_out(self, o, c_next):\n",
        "    h_next = None\n",
        "    ### BEGIN SOLUTION\n",
        "    h_next = torch.tanh(c_next) * o\n",
        "    ### END SOLUTION\n",
        "    return h_next\n",
        "\n",
        "  def forward(self, x, hc):\n",
        "    (h, c_prev) = hc\n",
        "    # Equation 1. input gate\n",
        "    i = self.input_gate(x, h)\n",
        "\n",
        "    # Equation 2. forget gate\n",
        "    f = self.forget_gate(x, h)\n",
        "\n",
        "    # Equation 3. updating the cell memory\n",
        "    c_next = self.cell_memory(i, f, x, h, c_prev)\n",
        "\n",
        "    # Equation 4. calculate the main output gate\n",
        "    o = self.out_gate(x, h)\n",
        "\n",
        "    # Equation 5. produce next hidden output\n",
        "    h_next = self.hidden_out(o, c_next)\n",
        "\n",
        "    return h_next, c_next\n",
        "\n",
        "  def init_hidden(self):\n",
        "    return (torch.zeros(1, self.hidden_size),\n",
        "            torch.zeros(1, self.hidden_size))"
      ]
    },
    {
      "cell_type": "code",
      "execution_count": 185,
      "metadata": {
        "editable": false,
        "id": "F1hU85_pKq1k",
        "scrolled": true,
        "tags": [
          "raises-exception"
        ],
        "colab": {
          "base_uri": "https://localhost:8080/"
        },
        "outputId": "d8a2a05c-477a-4240-cc96-0baae044ff44"
      },
      "outputs": [
        {
          "output_type": "stream",
          "name": "stdout",
          "text": [
            "torch.Size([1, 50]) torch.Size([1, 50])\n",
            "NllLossBackward0\n",
            "MulBackward0\n",
            "TanhBackward0\n",
            "AddBackward0\n",
            "MulBackward0\n",
            "SigmoidBackward0\n",
            "AddBackward0\n",
            "AddmmBackward0\n",
            "AccumulateGrad\n",
            "TBackward0\n",
            "AccumulateGrad\n",
            "AddmmBackward0\n",
            "AccumulateGrad\n",
            "TBackward0\n",
            "AccumulateGrad\n",
            "TanhBackward0\n",
            "AddBackward0\n",
            "AddmmBackward0\n",
            "AccumulateGrad\n",
            "TBackward0\n",
            "AccumulateGrad\n",
            "AddmmBackward0\n",
            "AccumulateGrad\n",
            "TBackward0\n",
            "AccumulateGrad\n",
            "MulBackward0\n",
            "SigmoidBackward0\n",
            "AddBackward0\n",
            "AddmmBackward0\n",
            "AccumulateGrad\n",
            "TBackward0\n",
            "AccumulateGrad\n",
            "AddmmBackward0\n",
            "AccumulateGrad\n",
            "TBackward0\n",
            "AccumulateGrad\n",
            "SigmoidBackward0\n",
            "AddBackward0\n",
            "AddmmBackward0\n",
            "AccumulateGrad\n",
            "TBackward0\n",
            "AccumulateGrad\n",
            "AddmmBackward0\n",
            "AccumulateGrad\n",
            "TBackward0\n",
            "AccumulateGrad\n",
            "NllLossBackward0\n",
            "MulBackward0\n",
            "TanhBackward0\n",
            "AddBackward0\n",
            "MulBackward0\n",
            "SigmoidBackward0\n",
            "AddBackward0\n",
            "AddmmBackward0\n",
            "AccumulateGrad\n",
            "TBackward0\n",
            "AccumulateGrad\n",
            "AddmmBackward0\n",
            "AccumulateGrad\n",
            "TBackward0\n",
            "AccumulateGrad\n",
            "TanhBackward0\n",
            "AddBackward0\n",
            "AddmmBackward0\n",
            "AccumulateGrad\n",
            "TBackward0\n",
            "AccumulateGrad\n",
            "AddmmBackward0\n",
            "AccumulateGrad\n",
            "TBackward0\n",
            "AccumulateGrad\n",
            "MulBackward0\n",
            "SigmoidBackward0\n",
            "AddBackward0\n",
            "AddmmBackward0\n",
            "AccumulateGrad\n",
            "TBackward0\n",
            "AccumulateGrad\n",
            "AddmmBackward0\n",
            "AccumulateGrad\n",
            "TBackward0\n",
            "AccumulateGrad\n",
            "SigmoidBackward0\n",
            "AddBackward0\n",
            "AddmmBackward0\n",
            "AccumulateGrad\n",
            "TBackward0\n",
            "AccumulateGrad\n",
            "AddmmBackward0\n",
            "AccumulateGrad\n",
            "TBackward0\n",
            "AccumulateGrad\n",
            "NllLossBackward0\n",
            "MulBackward0\n",
            "TanhBackward0\n",
            "AddBackward0\n",
            "MulBackward0\n",
            "SigmoidBackward0\n",
            "AddBackward0\n",
            "AddmmBackward0\n",
            "AccumulateGrad\n",
            "TBackward0\n",
            "AccumulateGrad\n",
            "AddmmBackward0\n",
            "AccumulateGrad\n",
            "TBackward0\n",
            "AccumulateGrad\n",
            "TanhBackward0\n",
            "AddBackward0\n",
            "AddmmBackward0\n",
            "AccumulateGrad\n",
            "TBackward0\n",
            "AccumulateGrad\n",
            "AddmmBackward0\n",
            "AccumulateGrad\n",
            "TBackward0\n",
            "AccumulateGrad\n",
            "MulBackward0\n",
            "SigmoidBackward0\n",
            "AddBackward0\n",
            "AddmmBackward0\n",
            "AccumulateGrad\n",
            "TBackward0\n",
            "AccumulateGrad\n",
            "AddmmBackward0\n",
            "AccumulateGrad\n",
            "TBackward0\n",
            "AccumulateGrad\n",
            "SigmoidBackward0\n",
            "AddBackward0\n",
            "AddmmBackward0\n",
            "AccumulateGrad\n",
            "TBackward0\n",
            "AccumulateGrad\n",
            "AddmmBackward0\n",
            "AccumulateGrad\n",
            "TBackward0\n",
            "AccumulateGrad\n",
            "NllLossBackward0\n",
            "MulBackward0\n",
            "TanhBackward0\n",
            "AddBackward0\n",
            "MulBackward0\n",
            "SigmoidBackward0\n",
            "AddBackward0\n",
            "AddmmBackward0\n",
            "AccumulateGrad\n",
            "TBackward0\n",
            "AccumulateGrad\n",
            "AddmmBackward0\n",
            "AccumulateGrad\n",
            "TBackward0\n",
            "AccumulateGrad\n",
            "TanhBackward0\n",
            "AddBackward0\n",
            "AddmmBackward0\n",
            "AccumulateGrad\n",
            "TBackward0\n",
            "AccumulateGrad\n",
            "AddmmBackward0\n",
            "AccumulateGrad\n",
            "TBackward0\n",
            "AccumulateGrad\n",
            "MulBackward0\n",
            "SigmoidBackward0\n",
            "AddBackward0\n",
            "AddmmBackward0\n",
            "AccumulateGrad\n",
            "TBackward0\n",
            "AccumulateGrad\n",
            "AddmmBackward0\n",
            "AccumulateGrad\n",
            "TBackward0\n",
            "AccumulateGrad\n",
            "SigmoidBackward0\n",
            "AddBackward0\n",
            "AddmmBackward0\n",
            "AccumulateGrad\n",
            "TBackward0\n",
            "AccumulateGrad\n",
            "AddmmBackward0\n",
            "AccumulateGrad\n",
            "TBackward0\n",
            "AccumulateGrad\n",
            "NllLossBackward0\n",
            "MulBackward0\n",
            "TanhBackward0\n",
            "AddBackward0\n",
            "MulBackward0\n",
            "SigmoidBackward0\n",
            "AddBackward0\n",
            "AddmmBackward0\n",
            "AccumulateGrad\n",
            "TBackward0\n",
            "AccumulateGrad\n",
            "AddmmBackward0\n",
            "AccumulateGrad\n",
            "TBackward0\n",
            "AccumulateGrad\n",
            "TanhBackward0\n",
            "AddBackward0\n",
            "AddmmBackward0\n",
            "AccumulateGrad\n",
            "TBackward0\n",
            "AccumulateGrad\n",
            "AddmmBackward0\n",
            "AccumulateGrad\n",
            "TBackward0\n",
            "AccumulateGrad\n",
            "MulBackward0\n",
            "SigmoidBackward0\n",
            "AddBackward0\n",
            "AddmmBackward0\n",
            "AccumulateGrad\n",
            "TBackward0\n",
            "AccumulateGrad\n",
            "AddmmBackward0\n",
            "AccumulateGrad\n",
            "TBackward0\n",
            "AccumulateGrad\n",
            "SigmoidBackward0\n",
            "AddBackward0\n",
            "AddmmBackward0\n",
            "AccumulateGrad\n",
            "TBackward0\n",
            "AccumulateGrad\n",
            "AddmmBackward0\n",
            "AccumulateGrad\n",
            "TBackward0\n",
            "AccumulateGrad\n",
            "Number of layers found, 6, is correct.\n",
            "Test D: 5/5.0\n"
          ]
        }
      ],
      "source": [
        "# student check - the following test must return a value of 6 to receive credit (5 pts)\n",
        "ag.test_myLSTMCell_structure(MyLSTMCell)"
      ]
    },
    {
      "cell_type": "code",
      "execution_count": 186,
      "metadata": {
        "editable": false,
        "id": "9qSAP1b3Kt-T",
        "tags": [
          "raises-exception"
        ],
        "colab": {
          "base_uri": "https://localhost:8080/"
        },
        "outputId": "9116b78c-81b7-494a-b247-5164bca232b6"
      },
      "outputs": [
        {
          "output_type": "stream",
          "name": "stdout",
          "text": [
            "Number of linear layers found, 8, is correct.\n",
            "Test E: 5/5.0\n"
          ]
        }
      ],
      "source": [
        "# student check - the following test must return a value of 8 to receive credit (5 pts)\n",
        "ag.MyLSTMCell_linear_layer_size_check()"
      ]
    },
    {
      "cell_type": "markdown",
      "metadata": {
        "editable": false,
        "id": "AX6gFeSw_nGN",
        "tags": []
      },
      "source": [
        "Let's build a cell. A cell doesn't do much by itself."
      ]
    },
    {
      "cell_type": "code",
      "execution_count": 187,
      "metadata": {
        "editable": false,
        "id": "KX5cDfwhjNNp",
        "tags": [
          "raises-exception"
        ]
      },
      "outputs": [],
      "source": [
        "cell = MyLSTMCell(input_size=VOCAB.num_words(), hidden_size=64)"
      ]
    },
    {
      "cell_type": "code",
      "execution_count": 188,
      "metadata": {
        "editable": false,
        "id": "aIs1bUkCK9nB",
        "scrolled": true,
        "tags": [
          "raises-exception"
        ],
        "colab": {
          "base_uri": "https://localhost:8080/"
        },
        "outputId": "a6fef480-c54f-4059-ea29-bc2224b8af62"
      },
      "outputs": [
        {
          "output_type": "stream",
          "name": "stdout",
          "text": [
            "SigmoidBackward0\n",
            "AddBackward0\n",
            "AddmmBackward0\n",
            "AccumulateGrad\n",
            "TBackward0\n",
            "AccumulateGrad\n",
            "AddmmBackward0\n",
            "AccumulateGrad\n",
            "TBackward0\n",
            "AccumulateGrad\n",
            "SigmoidBackward0\n",
            "AddBackward0\n",
            "AddmmBackward0\n",
            "AccumulateGrad\n",
            "TBackward0\n",
            "AccumulateGrad\n",
            "AddmmBackward0\n",
            "AccumulateGrad\n",
            "TBackward0\n",
            "AccumulateGrad\n",
            "SigmoidBackward0\n",
            "AddBackward0\n",
            "AddmmBackward0\n",
            "AccumulateGrad\n",
            "TBackward0\n",
            "AccumulateGrad\n",
            "AddmmBackward0\n",
            "AccumulateGrad\n",
            "TBackward0\n",
            "AccumulateGrad\n",
            "SigmoidBackward0\n",
            "AddBackward0\n",
            "AddmmBackward0\n",
            "AccumulateGrad\n",
            "TBackward0\n",
            "AccumulateGrad\n",
            "AddmmBackward0\n",
            "AccumulateGrad\n",
            "TBackward0\n",
            "AccumulateGrad\n",
            "SigmoidBackward0\n",
            "AddBackward0\n",
            "AddmmBackward0\n",
            "AccumulateGrad\n",
            "TBackward0\n",
            "AccumulateGrad\n",
            "AddmmBackward0\n",
            "AccumulateGrad\n",
            "TBackward0\n",
            "AccumulateGrad\n",
            "SigmoidBackward0\n",
            "AddBackward0\n",
            "AddmmBackward0\n",
            "AccumulateGrad\n",
            "TBackward0\n",
            "AccumulateGrad\n",
            "AddmmBackward0\n",
            "AccumulateGrad\n",
            "TBackward0\n",
            "AccumulateGrad\n",
            "SigmoidBackward0\n",
            "AddBackward0\n",
            "AddmmBackward0\n",
            "AccumulateGrad\n",
            "TBackward0\n",
            "AccumulateGrad\n",
            "AddmmBackward0\n",
            "AccumulateGrad\n",
            "TBackward0\n",
            "AccumulateGrad\n",
            "SigmoidBackward0\n",
            "AddBackward0\n",
            "AddmmBackward0\n",
            "AccumulateGrad\n",
            "TBackward0\n",
            "AccumulateGrad\n",
            "AddmmBackward0\n",
            "AccumulateGrad\n",
            "TBackward0\n",
            "AccumulateGrad\n",
            "SigmoidBackward0\n",
            "AddBackward0\n",
            "AddmmBackward0\n",
            "AccumulateGrad\n",
            "TBackward0\n",
            "AccumulateGrad\n",
            "AddmmBackward0\n",
            "AccumulateGrad\n",
            "TBackward0\n",
            "AccumulateGrad\n",
            "NllLossBackward0\n",
            "AddBackward0\n",
            "MulBackward0\n",
            "TanhBackward0\n",
            "AddBackward0\n",
            "AddmmBackward0\n",
            "AccumulateGrad\n",
            "TBackward0\n",
            "AccumulateGrad\n",
            "AddmmBackward0\n",
            "AccumulateGrad\n",
            "TBackward0\n",
            "AccumulateGrad\n",
            "--\n",
            "NllLossBackward0\n",
            "AddBackward0\n",
            "MulBackward0\n",
            "TanhBackward0\n",
            "AddBackward0\n",
            "AddmmBackward0\n",
            "AccumulateGrad\n",
            "TBackward0\n",
            "AccumulateGrad\n",
            "AddmmBackward0\n",
            "AccumulateGrad\n",
            "TBackward0\n",
            "AccumulateGrad\n",
            "NllLossBackward0\n",
            "AddBackward0\n",
            "MulBackward0\n",
            "TanhBackward0\n",
            "AddBackward0\n",
            "AddmmBackward0\n",
            "AccumulateGrad\n",
            "TBackward0\n",
            "AccumulateGrad\n",
            "AddmmBackward0\n",
            "AccumulateGrad\n",
            "TBackward0\n",
            "AccumulateGrad\n",
            "NllLossBackward0\n",
            "AddBackward0\n",
            "MulBackward0\n",
            "TanhBackward0\n",
            "AddBackward0\n",
            "AddmmBackward0\n",
            "AccumulateGrad\n",
            "TBackward0\n",
            "AccumulateGrad\n",
            "AddmmBackward0\n",
            "AccumulateGrad\n",
            "TBackward0\n",
            "AccumulateGrad\n",
            "1 2 2 1\n",
            "NllLossBackward0\n",
            "MulBackward0\n",
            "TanhBackward0\n",
            "AddmmBackward0\n",
            "AccumulateGrad\n",
            "TBackward0\n",
            "AccumulateGrad\n",
            "AddmmBackward0\n",
            "AccumulateGrad\n",
            "TBackward0\n",
            "AccumulateGrad\n",
            "NllLossBackward0\n",
            "MulBackward0\n",
            "TanhBackward0\n",
            "AddmmBackward0\n",
            "AccumulateGrad\n",
            "TBackward0\n",
            "AccumulateGrad\n",
            "AddmmBackward0\n",
            "AccumulateGrad\n",
            "TBackward0\n",
            "AccumulateGrad\n",
            "NllLossBackward0\n",
            "MulBackward0\n",
            "TanhBackward0\n",
            "AddmmBackward0\n",
            "AccumulateGrad\n",
            "TBackward0\n",
            "AccumulateGrad\n",
            "AddmmBackward0\n",
            "AccumulateGrad\n",
            "TBackward0\n",
            "AccumulateGrad\n",
            "NllLossBackward0\n",
            "MulBackward0\n",
            "TanhBackward0\n",
            "AddmmBackward0\n",
            "AccumulateGrad\n",
            "TBackward0\n",
            "AccumulateGrad\n",
            "AddmmBackward0\n",
            "AccumulateGrad\n",
            "TBackward0\n",
            "AccumulateGrad\n",
            "1 2 0 1\n",
            "Number of layers found, 22, is correct.\n",
            "Test F: 10/10\n"
          ]
        }
      ],
      "source": [
        "# student check - the following test must return a value of 22 to receive credit (10 pts)\n",
        "ag.test_gate_structure(cell)"
      ]
    },
    {
      "cell_type": "markdown",
      "metadata": {
        "editable": false,
        "id": "xHD45HsO_qx_",
        "tags": []
      },
      "source": [
        "Now let's load your `MyLSTMCell` class into `MyLSTM`."
      ]
    },
    {
      "cell_type": "code",
      "execution_count": 189,
      "metadata": {
        "editable": true,
        "id": "OLFMIFotAI0Z",
        "tags": [
          "raises-exception"
        ]
      },
      "outputs": [],
      "source": [
        "# It's ok to change this cell, however, you should not need to change it much (if at all) - note: certain changes may break the autograder, e.g.,\n",
        "# increasing the size of the hidden layer could cause out of memory errors in the autograder and large numbers of epochs could cause autograder to time\n",
        "# out (pay attention to the runtime of your notebook and the warnings that are printed out at the end of the notebook)\n",
        "MY_CELL_HIDDEN_SIZE = 64\n",
        "MY_CELL_NUM_EPOCHS = 3\n",
        "MY_CELL_LEARNING_RATE = 0.01"
      ]
    },
    {
      "cell_type": "code",
      "execution_count": 190,
      "metadata": {
        "editable": false,
        "id": "R3CE-rewmg4S",
        "tags": [
          "raises-exception"
        ]
      },
      "outputs": [],
      "source": [
        "my_cell_lstm = MyLSTM(input_size=VOCAB.num_words(), hidden_size=MY_CELL_HIDDEN_SIZE, cell_type=MyLSTMCell)\n",
        "optimizer_my_cell = optim.SGD(my_cell_lstm.parameters(), lr=MY_CELL_LEARNING_RATE)\n",
        "criterion_my_cell = nn.NLLLoss()"
      ]
    },
    {
      "cell_type": "markdown",
      "metadata": {
        "editable": false,
        "id": "Au4bDyOjD7Dg",
        "tags": []
      },
      "source": [
        "## LSTM From Scratch---Training"
      ]
    },
    {
      "cell_type": "markdown",
      "metadata": {
        "editable": false,
        "id": "PReAw7jPEHS3",
        "tags": []
      },
      "source": [
        "Lets see if your combination of `MyLSTM` using `MyLSTMCell` learns. We don't need to update the training loop"
      ]
    },
    {
      "cell_type": "code",
      "execution_count": 191,
      "metadata": {
        "editable": false,
        "id": "twn105pnrmFx",
        "scrolled": true,
        "tags": [
          "raises-exception"
        ],
        "colab": {
          "base_uri": "https://localhost:8080/"
        },
        "collapsed": true,
        "outputId": "ab8ccf03-735c-4268-b26b-857e6f950031"
      },
      "outputs": [
        {
          "output_type": "stream",
          "name": "stdout",
          "text": [
            "iter 0 loss 8.633623123168945\n",
            "iter 1000 loss 8.51939582824707\n",
            "iter 2000 loss 8.331156730651855\n",
            "iter 3000 loss 7.916265964508057\n",
            "iter 4000 loss 7.672266960144043\n",
            "iter 5000 loss 7.4915971755981445\n",
            "iter 6000 loss 7.329868316650391\n",
            "iter 7000 loss 7.19071102142334\n",
            "iter 8000 loss 7.073894023895264\n",
            "iter 9000 loss 6.957127094268799\n",
            "iter 10000 loss 6.873840808868408\n",
            "iter 11000 loss 6.798099517822266\n",
            "epoch 0 loss 6.758619785308838\n",
            "iter 0 loss 8.489060401916504\n",
            "iter 1000 loss 6.012884140014648\n",
            "iter 2000 loss 6.021740436553955\n",
            "iter 3000 loss 5.9658002853393555\n",
            "iter 4000 loss 5.989513397216797\n",
            "iter 5000 loss 6.009385585784912\n",
            "iter 6000 loss 6.012665748596191\n",
            "iter 7000 loss 6.009995937347412\n",
            "iter 8000 loss 6.002444267272949\n",
            "iter 9000 loss 5.977999210357666\n",
            "iter 10000 loss 5.967276573181152\n",
            "iter 11000 loss 5.951794147491455\n",
            "epoch 1 loss 5.9412946701049805\n",
            "iter 0 loss 8.424174308776855\n",
            "iter 1000 loss 5.868842601776123\n",
            "iter 2000 loss 5.883376598358154\n",
            "iter 3000 loss 5.838275909423828\n",
            "iter 4000 loss 5.871366024017334\n",
            "iter 5000 loss 5.898061275482178\n",
            "iter 6000 loss 5.906534671783447\n",
            "iter 7000 loss 5.907607078552246\n",
            "iter 8000 loss 5.9042463302612305\n",
            "iter 9000 loss 5.882718086242676\n",
            "iter 10000 loss 5.874847412109375\n",
            "iter 11000 loss 5.86161994934082\n",
            "epoch 2 loss 5.852274417877197\n"
          ]
        }
      ],
      "source": [
        "epoch_losses = train_lstm(my_cell_lstm, optimizer_my_cell, criterion_my_cell, num_epochs=MY_CELL_NUM_EPOCHS, data=TRAIN)"
      ]
    },
    {
      "cell_type": "code",
      "execution_count": 192,
      "metadata": {
        "editable": false,
        "jupyter": {
          "outputs_hidden": false
        },
        "tags": [
          "raises-exception"
        ],
        "id": "RPODao-nHVaC",
        "colab": {
          "base_uri": "https://localhost:8080/",
          "height": 471
        },
        "outputId": "215d99cb-940f-458a-9143-549e99419586"
      },
      "outputs": [
        {
          "output_type": "execute_result",
          "data": {
            "text/plain": [
              "[<matplotlib.lines.Line2D at 0x7c1ad09d3890>]"
            ]
          },
          "metadata": {},
          "execution_count": 192
        },
        {
          "output_type": "display_data",
          "data": {
            "text/plain": [
              "<Figure size 640x480 with 1 Axes>"
            ],
            "image/png": "[encoded data removed]"
          },
          "metadata": {}
        }
      ],
      "source": [
        "plt.figure(1)\n",
        "plt.clf()\n",
        "plt.xlabel('Epoch')\n",
        "plt.ylabel('Loss')\n",
        "plt.xticks(range(len(epoch_losses)))\n",
        "plt.plot(epoch_losses)"
      ]
    },
    {
      "cell_type": "markdown",
      "metadata": {
        "collapsed": false,
        "editable": false,
        "jupyter": {
          "outputs_hidden": false
        },
        "tags": [],
        "id": "xlgKMs1-HVaC"
      },
      "source": [
        "You should see a curve that slopes down steeply at first and then levels out to some asymptotic minimum."
      ]
    },
    {
      "cell_type": "markdown",
      "metadata": {
        "editable": false,
        "id": "5c-ofH8SD-4E",
        "tags": []
      },
      "source": [
        "## LSTM From Scratch---Testing"
      ]
    },
    {
      "cell_type": "markdown",
      "metadata": {
        "editable": false,
        "id": "jEh_eZJbEP3D",
        "tags": []
      },
      "source": [
        "We don't need to update the evaluation loop"
      ]
    },
    {
      "cell_type": "code",
      "execution_count": 193,
      "metadata": {
        "editable": false,
        "id": "LVNyCqQfMVdC",
        "tags": [
          "raises-exception"
        ],
        "colab": {
          "base_uri": "https://localhost:8080/"
        },
        "outputId": "09cc3c73-2278-4038-b22c-fc1f6c569e24"
      },
      "outputs": [
        {
          "output_type": "stream",
          "name": "stdout",
          "text": [
            "495.984375\n",
            "Perplexity is less than 1000\n",
            "Test G: 20/20\n"
          ]
        }
      ],
      "source": [
        "# student check - the following test must return a value less than 1000 to receive credit (20 pts)\n",
        "ag.eval_lstm_2(max_perplexity=1000)"
      ]
    },
    {
      "cell_type": "markdown",
      "metadata": {
        "editable": false,
        "id": "fcrqcIgJEibA",
        "tags": []
      },
      "source": [
        "## LSTM From Scratch---Generation"
      ]
    },
    {
      "cell_type": "markdown",
      "metadata": {
        "editable": false,
        "id": "wUo5LWdVFctT",
        "tags": []
      },
      "source": [
        "Generation works the same."
      ]
    },
    {
      "cell_type": "code",
      "execution_count": 194,
      "metadata": {
        "editable": true,
        "id": "eGShC3Y_E6vy",
        "tags": [
          "raises-exception"
        ]
      },
      "outputs": [],
      "source": [
        "# It's ok to change this cell\n",
        "MY_CELL_TEMPERATURE = 0.5"
      ]
    },
    {
      "cell_type": "code",
      "execution_count": 195,
      "metadata": {
        "editable": false,
        "id": "dD5OwZMXEldP",
        "tags": [
          "raises-exception"
        ],
        "colab": {
          "base_uri": "https://localhost:8080/"
        },
        "outputId": "5a8a965f-8da1-4f8a-e61e-e8562c98382b"
      },
      "outputs": [
        {
          "output_type": "stream",
          "name": "stdout",
          "text": [
            "input prompt: the First War began\n",
            "input tokens: [2, 14, 15, 16] \n",
            "\n",
            "Prepping hidden state:\n",
            "\n",
            "current token: 2 the\n",
            "predicted next token: 2 the \n",
            "\n",
            "current token: 14 first\n",
            "predicted next token: 2 the \n",
            "\n",
            "current token: 15 war\n",
            "predicted next token: 2 the \n",
            "\n",
            "current token: 16 began\n",
            "predicted next token: 2 the \n",
            "\n",
            "Generating continuation:\n",
            "\n",
            "current token: 16 began\n",
            "predicted next token: 2 the \n",
            "\n",
            "current token: 2 the\n",
            "predicted next token: 2 the \n",
            "\n",
            "current token: 2 the\n",
            "predicted next token: 2 the \n",
            "\n",
            "current token: 2 the\n",
            "predicted next token: 2 the \n",
            "\n",
            "current token: 2 the\n",
            "predicted next token: 2 the \n",
            "\n",
            "current token: 2 the\n",
            "predicted next token: 2 the \n",
            "\n",
            "current token: 2 the\n",
            "predicted next token: 5 of \n",
            "\n",
            "current token: 5 of\n",
            "predicted next token: 2 the \n",
            "\n",
            "current token: 2 the\n",
            "predicted next token: 2 the \n",
            "\n",
            "current token: 2 the\n",
            "predicted next token: 49 to \n",
            "\n",
            "Final continuation:\n",
            "[2, 2, 2, 2, 2, 2, 5, 2, 2, 49]\n",
            "['the', 'the', 'the', 'the', 'the', 'the', 'of', 'the', 'the', 'to']\n",
            "Final:\n",
            "the First War began the the the the the the of the the to\n"
          ]
        }
      ],
      "source": [
        "# Example input prompt:\n",
        "input_prompt = \"the First War began\"\n",
        "# How long should the continuation be?\n",
        "num_new_tokens = 10\n",
        "\n",
        "# Normalize the input\n",
        "normalized_input = normalize_string(input_prompt)\n",
        "# Tokenize the input\n",
        "tokenized_input = [VOCAB.word2index(w) for w in normalized_input.split()]\n",
        "print(\"input prompt:\", input_prompt)\n",
        "print(\"input tokens:\", tokenized_input, '\\n')\n",
        "\n",
        "# Get the hidden state that represents the input prompt\n",
        "print(\"Prepping hidden state:\\n\")\n",
        "hidden_state = prep_hidden_state(tokenized_input, my_cell_lstm, verbose=True)\n",
        "\n",
        "# Generate the continuation. Use the argmax function to sample from the RNN's outputs\n",
        "token = tokenized_input[-1]\n",
        "continuation = generate_rnn(my_cell_lstm, num_new_tokens, token, hidden_state, fn=lambda d:my_temperature_sample(d, MY_CELL_TEMPERATURE), verbose=True)\n",
        "\n",
        "# All done\n",
        "print(\"Final continuation:\")\n",
        "print(continuation)\n",
        "continuation_text = [VOCAB.index2word(t) for t in continuation]\n",
        "print(continuation_text)\n",
        "print(\"Final:\")\n",
        "print(input_prompt + ' ' + ' '.join(continuation_text))"
      ]
    },
    {
      "cell_type": "markdown",
      "metadata": {
        "collapsed": false,
        "editable": false,
        "jupyter": {
          "outputs_hidden": false
        },
        "tags": [],
        "id": "gUKG616qHVaC"
      },
      "source": [
        "# Attention (40 Points)\n",
        "\n",
        "Attention allows the network to look back at previous data when trying to predict the next token.\n",
        "\n",
        "We will split the LSTM into an Encoder and a Decoder. The Encoder's job will be to update the hidden state based on the latest token. The Decoder's job is to predict the next token (log softmax over the vocabulary) based on the current hidden state as well as *n* previous hidden states. You will see that the training loop now collects up a stack of hidden states to pass to the Decoder. The Decoder will figure out how much the network should attend to each of the *n* prior hidden states before making its final prediction.\n",
        "\n",
        "The Encoder will be a simple `nn.LSTMCell`. While the encoder could be more complicated, this allows us to focus on the Decoder. The Decoder is more complicated, involving both an LSTMCell and an attention mechanism.\n",
        "\n",
        "**Complete the class defnition below**\n",
        "\n",
        "`MyAttentionDecoder` will implement another `nn.LSTMCell` plus an attention mechanism.\n",
        "\n",
        "Inputs:\n",
        "- `x`: a one-hot of the current token as a `1 x vocab_size` tensor\n",
        "- `hc`: a tuple containing a tuple with encoder's hidden state and memory cell state. The hidden state and cell state are both `1 x hidden_size` tensors.\n",
        "- `encoder_outputs`: a history of *n* encoded hidden states, as a `n x hidden_size` tensor (this data is not batched).\n",
        "\n",
        "Outputs:\n",
        "- `h_hat`: a log softmax probability distribution over the vocabular, as a `1 x vocab_size` tensor\n",
        "- `hc_out`: a tuple containing the LSTMCell's hidden state and memory cell state. The hidden state and cell state are both `1 x hidden_size` tensors."
      ]
    },
    {
      "cell_type": "code",
      "execution_count": 196,
      "metadata": {
        "editable": true,
        "jupyter": {
          "outputs_hidden": false
        },
        "tags": [
          "raises-exception"
        ],
        "id": "R-x6-hpwHVaD"
      },
      "outputs": [],
      "source": [
        "class MyAttentionDecoder(nn.Module):\n",
        "  def __init__(self, hidden_size, input_size, max_length):\n",
        "    super(MyAttentionDecoder, self).__init__()\n",
        "    self.hidden_size = hidden_size\n",
        "    self.input_size = input_size\n",
        "    self.max_length = max_length\n",
        "    ### BEGIN SOLUTION\n",
        "    self.input_compression = nn.Linear(input_size, hidden_size)\n",
        "    # hidden*2, max_len_seq\n",
        "    self.attention = nn.Linear(hidden_size * 2, max_length)\n",
        "    # Combine input and hs to hidden size\n",
        "    self.attention_combine = nn.Linear(2 * hidden_size, hidden_size)\n",
        "\n",
        "    # lstm\n",
        "    self.lstm_cell = nn.LSTMCell(hidden_size, hidden_size)\n",
        "    # final output\n",
        "    self.output = nn.Linear(hidden_size, input_size)\n",
        "\n",
        "    # need to have total of 8 linear layers\n",
        "    self.linear5 = nn.Linear(max_length, 1)\n",
        "    self.linear6 = nn.Linear(max_length, 1)\n",
        "    self.linear7 = nn.Linear(max_length, 1)\n",
        "    self.linear8 = nn.Linear(max_length, 1)\n",
        "\n",
        "\n",
        "    ### END SOLUTION\n",
        "\n",
        "  def forward(self, x, hc, encoder_outputs):\n",
        "    n = encoder_outputs.size(0)\n",
        "    # citation for squeezing/unsqueezing: https://docs.pytorch.org/docs/stable/generated/torch.unsqueeze.html\n",
        "    # apply previous hidden state to encoder outputs\n",
        "    # citation (begin): https://docs.pytorch.org/docs/stable/generated/torch.Tensor.expand.html\n",
        "    hs_expanded = hc[0].expand(n, -1)\n",
        "    # citation (end): https://docs.pytorch.org/docs/stable/generated/torch.Tensor.expand.html\n",
        "    # concatenate hidden state (t-1) + encoder outputs\n",
        "    attention_input = torch.cat((encoder_outputs, hs_expanded), dim=1)\n",
        "    # apply linear layer to get scores\n",
        "    attention_scores = self.attention(attention_input)\n",
        "    #print(attention_scores)\n",
        "    #print(attention_scores.shape)\n",
        "    # only want 1 score per time step\n",
        "    attention_scores = attention_scores.mean(dim=1, keepdim=True)\n",
        "    #print(attention_scores)\n",
        "    #print(attention_scores.shape)\n",
        "    # softmax to transposed scores\n",
        "    attention_weights = F.softmax(attention_scores.t(), dim=1)\n",
        "    # need to turn into 3D tensors for bmm\n",
        "    attention_weights = attention_weights.unsqueeze(1)\n",
        "    encoder_outputs = encoder_outputs.unsqueeze(0)\n",
        "    # matrix multiplication\n",
        "    new_hs = torch.bmm(attention_weights, encoder_outputs).squeeze(1)\n",
        "\n",
        "    # compress x to hidden size\n",
        "    x_proj = self.input_compression(x)\n",
        "    # Combine input and context\n",
        "    x_combined = torch.cat((x_proj, new_hs), dim=1)\n",
        "    x_combined_trans = self.attention_combine(x_combined)\n",
        "    # Apply nonlinearity (4 relu layers)\n",
        "    nl_combined = F.relu(x_combined_trans)\n",
        "    nl_combined = F.relu(nl_combined)\n",
        "    nl_combined = F.relu(nl_combined)\n",
        "    nl_combined = F.relu(nl_combined)\n",
        "\n",
        "    # run through ltsm cell\n",
        "    h_new, c_new = self.lstm_cell(nl_combined, (hc[0], hc[1]))\n",
        "    output = self.output(h_new)\n",
        "    log_probs = F.log_softmax(output, dim=1)\n",
        "    hc_out = (h_new, c_new)\n",
        "    ### END SOLUTION\n",
        "    return log_probs, hc_out\n",
        "\n",
        "  def init_hidden(self):\n",
        "    return (torch.zeros(1, self.hidden_size),\n",
        "            torch.zeros(1, self.hidden_size))"
      ]
    },
    {
      "cell_type": "code",
      "execution_count": 197,
      "metadata": {
        "editable": true,
        "jupyter": {
          "outputs_hidden": false
        },
        "tags": [
          "raises-exception"
        ],
        "id": "WwbVcYs-HVaD"
      },
      "outputs": [],
      "source": [
        "# It's ok to change this cell, however, you should not need to change it much (if at all) - note: certain changes may break the autograder, e.g.,\n",
        "# increasing the size of the hidden layer could cause out of memory errors in the autograder and large numbers of epochs could cause autograder to time\n",
        "# out (pay attention to the runtime of your notebook and the warnings that are printed out at the end of the notebook)\n",
        "ATTN_MAX_LENGTH = 5  # The number of past hidden states that can be attended to\n",
        "ATTN_HIDDEN_SIZE = 60\n",
        "ATTN_NUM_EPOCHS = 3\n",
        "ATTN_LEARNING_RATE = 0.01"
      ]
    },
    {
      "cell_type": "code",
      "execution_count": 198,
      "metadata": {
        "editable": false,
        "jupyter": {
          "outputs_hidden": false
        },
        "tags": [
          "raises-exception"
        ],
        "id": "tx4sdRzXHVaD"
      },
      "outputs": [],
      "source": [
        "attn_encoder = nn.LSTMCell(VOCAB.num_words(), ATTN_HIDDEN_SIZE)\n",
        "attn_decoder = MyAttentionDecoder(ATTN_HIDDEN_SIZE, VOCAB.num_words(), ATTN_MAX_LENGTH)\n",
        "attn_criterion = nn.NLLLoss()\n",
        "attn_encoder_optimizer = optim.SGD(attn_decoder.parameters(), lr=ATTN_LEARNING_RATE, momentum=0.9)\n",
        "attn_decoder_optimizer = optim.SGD(attn_decoder.parameters(), lr=ATTN_LEARNING_RATE, momentum=0.9)"
      ]
    },
    {
      "cell_type": "code",
      "execution_count": 199,
      "metadata": {
        "editable": false,
        "jupyter": {
          "outputs_hidden": false
        },
        "tags": [
          "raises-exception"
        ],
        "id": "ErzT7EtdHVaD",
        "colab": {
          "base_uri": "https://localhost:8080/"
        },
        "collapsed": true,
        "outputId": "580e3383-dfb3-4e96-90f4-f5779d3233ac"
      },
      "outputs": [
        {
          "output_type": "stream",
          "name": "stdout",
          "text": [
            "torch.Size([1, 100]) torch.Size([1, 64]) torch.Size([1, 64])\n",
            "--\n",
            "NllLossBackward0\n",
            "LogSoftmaxBackward0\n",
            "AddmmBackward0\n",
            "AccumulateGrad\n",
            "MulBackward0\n",
            "SigmoidBackward0\n",
            "UnsafeSplitBackward0\n",
            "AddBackward0\n",
            "AddmmBackward0\n",
            "AccumulateGrad\n",
            "TBackward0\n",
            "AccumulateGrad\n",
            "AddmmBackward0\n",
            "AccumulateGrad\n",
            "ReluBackward0\n",
            "ReluBackward0\n",
            "ReluBackward0\n",
            "ReluBackward0\n",
            "AddmmBackward0\n",
            "AccumulateGrad\n",
            "CatBackward0\n",
            "AddmmBackward0\n",
            "AccumulateGrad\n",
            "TBackward0\n",
            "AccumulateGrad\n",
            "SqueezeBackward1\n",
            "BmmBackward0\n",
            "UnsqueezeBackward0\n",
            "SoftmaxBackward0\n",
            "TBackward0\n",
            "MeanBackward1\n",
            "AddmmBackward0\n",
            "AccumulateGrad\n",
            "TBackward0\n",
            "AccumulateGrad\n",
            "TBackward0\n",
            "AccumulateGrad\n",
            "TBackward0\n",
            "AccumulateGrad\n",
            "TanhBackward0\n",
            "AddBackward0\n",
            "MulBackward0\n",
            "SigmoidBackward0\n",
            "UnsafeSplitBackward0\n",
            "AddBackward0\n",
            "AddmmBackward0\n",
            "AccumulateGrad\n",
            "TBackward0\n",
            "AccumulateGrad\n",
            "AddmmBackward0\n",
            "AccumulateGrad\n",
            "ReluBackward0\n",
            "ReluBackward0\n",
            "ReluBackward0\n",
            "ReluBackward0\n",
            "AddmmBackward0\n",
            "AccumulateGrad\n",
            "CatBackward0\n",
            "AddmmBackward0\n",
            "AccumulateGrad\n",
            "TBackward0\n",
            "AccumulateGrad\n",
            "SqueezeBackward1\n",
            "BmmBackward0\n",
            "UnsqueezeBackward0\n",
            "SoftmaxBackward0\n",
            "TBackward0\n",
            "MeanBackward1\n",
            "AddmmBackward0\n",
            "AccumulateGrad\n",
            "TBackward0\n",
            "AccumulateGrad\n",
            "TBackward0\n",
            "AccumulateGrad\n",
            "TBackward0\n",
            "AccumulateGrad\n",
            "MulBackward0\n",
            "SigmoidBackward0\n",
            "UnsafeSplitBackward0\n",
            "AddBackward0\n",
            "AddmmBackward0\n",
            "AccumulateGrad\n",
            "TBackward0\n",
            "AccumulateGrad\n",
            "AddmmBackward0\n",
            "AccumulateGrad\n",
            "ReluBackward0\n",
            "ReluBackward0\n",
            "ReluBackward0\n",
            "ReluBackward0\n",
            "AddmmBackward0\n",
            "AccumulateGrad\n",
            "CatBackward0\n",
            "AddmmBackward0\n",
            "AccumulateGrad\n",
            "TBackward0\n",
            "AccumulateGrad\n",
            "SqueezeBackward1\n",
            "BmmBackward0\n",
            "UnsqueezeBackward0\n",
            "SoftmaxBackward0\n",
            "TBackward0\n",
            "MeanBackward1\n",
            "AddmmBackward0\n",
            "AccumulateGrad\n",
            "TBackward0\n",
            "AccumulateGrad\n",
            "TBackward0\n",
            "AccumulateGrad\n",
            "TBackward0\n",
            "AccumulateGrad\n",
            "TanhBackward0\n",
            "UnsafeSplitBackward0\n",
            "AddBackward0\n",
            "AddmmBackward0\n",
            "AccumulateGrad\n",
            "TBackward0\n",
            "AccumulateGrad\n",
            "AddmmBackward0\n",
            "AccumulateGrad\n",
            "ReluBackward0\n",
            "ReluBackward0\n",
            "ReluBackward0\n",
            "ReluBackward0\n",
            "AddmmBackward0\n",
            "AccumulateGrad\n",
            "CatBackward0\n",
            "AddmmBackward0\n",
            "AccumulateGrad\n",
            "TBackward0\n",
            "AccumulateGrad\n",
            "SqueezeBackward1\n",
            "BmmBackward0\n",
            "UnsqueezeBackward0\n",
            "SoftmaxBackward0\n",
            "TBackward0\n",
            "MeanBackward1\n",
            "AddmmBackward0\n",
            "AccumulateGrad\n",
            "TBackward0\n",
            "AccumulateGrad\n",
            "TBackward0\n",
            "AccumulateGrad\n",
            "TBackward0\n",
            "AccumulateGrad\n",
            "TBackward0\n",
            "AccumulateGrad\n",
            "NllLossBackward0\n",
            "LogSoftmaxBackward0\n",
            "AddmmBackward0\n",
            "AccumulateGrad\n",
            "MulBackward0\n",
            "SigmoidBackward0\n",
            "UnsafeSplitBackward0\n",
            "AddBackward0\n",
            "AddmmBackward0\n",
            "AccumulateGrad\n",
            "TBackward0\n",
            "AccumulateGrad\n",
            "AddmmBackward0\n",
            "AccumulateGrad\n",
            "ReluBackward0\n",
            "ReluBackward0\n",
            "ReluBackward0\n",
            "ReluBackward0\n",
            "AddmmBackward0\n",
            "AccumulateGrad\n",
            "CatBackward0\n",
            "AddmmBackward0\n",
            "AccumulateGrad\n",
            "TBackward0\n",
            "AccumulateGrad\n",
            "SqueezeBackward1\n",
            "BmmBackward0\n",
            "UnsqueezeBackward0\n",
            "SoftmaxBackward0\n",
            "TBackward0\n",
            "MeanBackward1\n",
            "AddmmBackward0\n",
            "AccumulateGrad\n",
            "TBackward0\n",
            "AccumulateGrad\n",
            "TBackward0\n",
            "AccumulateGrad\n",
            "TBackward0\n",
            "AccumulateGrad\n",
            "TanhBackward0\n",
            "AddBackward0\n",
            "MulBackward0\n",
            "SigmoidBackward0\n",
            "UnsafeSplitBackward0\n",
            "AddBackward0\n",
            "AddmmBackward0\n",
            "AccumulateGrad\n",
            "TBackward0\n",
            "AccumulateGrad\n",
            "AddmmBackward0\n",
            "AccumulateGrad\n",
            "ReluBackward0\n",
            "ReluBackward0\n",
            "ReluBackward0\n",
            "ReluBackward0\n",
            "AddmmBackward0\n",
            "AccumulateGrad\n",
            "CatBackward0\n",
            "AddmmBackward0\n",
            "AccumulateGrad\n",
            "TBackward0\n",
            "AccumulateGrad\n",
            "SqueezeBackward1\n",
            "BmmBackward0\n",
            "UnsqueezeBackward0\n",
            "SoftmaxBackward0\n",
            "TBackward0\n",
            "MeanBackward1\n",
            "AddmmBackward0\n",
            "AccumulateGrad\n",
            "TBackward0\n",
            "AccumulateGrad\n",
            "TBackward0\n",
            "AccumulateGrad\n",
            "TBackward0\n",
            "AccumulateGrad\n",
            "MulBackward0\n",
            "SigmoidBackward0\n",
            "UnsafeSplitBackward0\n",
            "AddBackward0\n",
            "AddmmBackward0\n",
            "AccumulateGrad\n",
            "TBackward0\n",
            "AccumulateGrad\n",
            "AddmmBackward0\n",
            "AccumulateGrad\n",
            "ReluBackward0\n",
            "ReluBackward0\n",
            "ReluBackward0\n",
            "ReluBackward0\n",
            "AddmmBackward0\n",
            "AccumulateGrad\n",
            "CatBackward0\n",
            "AddmmBackward0\n",
            "AccumulateGrad\n",
            "TBackward0\n",
            "AccumulateGrad\n",
            "SqueezeBackward1\n",
            "BmmBackward0\n",
            "UnsqueezeBackward0\n",
            "SoftmaxBackward0\n",
            "TBackward0\n",
            "MeanBackward1\n",
            "AddmmBackward0\n",
            "AccumulateGrad\n",
            "TBackward0\n",
            "AccumulateGrad\n",
            "TBackward0\n",
            "AccumulateGrad\n",
            "TBackward0\n",
            "AccumulateGrad\n",
            "TanhBackward0\n",
            "UnsafeSplitBackward0\n",
            "AddBackward0\n",
            "AddmmBackward0\n",
            "AccumulateGrad\n",
            "TBackward0\n",
            "AccumulateGrad\n",
            "AddmmBackward0\n",
            "AccumulateGrad\n",
            "ReluBackward0\n",
            "ReluBackward0\n",
            "ReluBackward0\n",
            "ReluBackward0\n",
            "AddmmBackward0\n",
            "AccumulateGrad\n",
            "CatBackward0\n",
            "AddmmBackward0\n",
            "AccumulateGrad\n",
            "TBackward0\n",
            "AccumulateGrad\n",
            "SqueezeBackward1\n",
            "BmmBackward0\n",
            "UnsqueezeBackward0\n",
            "SoftmaxBackward0\n",
            "TBackward0\n",
            "MeanBackward1\n",
            "AddmmBackward0\n",
            "AccumulateGrad\n",
            "TBackward0\n",
            "AccumulateGrad\n",
            "TBackward0\n",
            "AccumulateGrad\n",
            "TBackward0\n",
            "AccumulateGrad\n",
            "TBackward0\n",
            "AccumulateGrad\n",
            "NllLossBackward0\n",
            "LogSoftmaxBackward0\n",
            "AddmmBackward0\n",
            "AccumulateGrad\n",
            "MulBackward0\n",
            "SigmoidBackward0\n",
            "UnsafeSplitBackward0\n",
            "AddBackward0\n",
            "AddmmBackward0\n",
            "AccumulateGrad\n",
            "TBackward0\n",
            "AccumulateGrad\n",
            "AddmmBackward0\n",
            "AccumulateGrad\n",
            "ReluBackward0\n",
            "ReluBackward0\n",
            "ReluBackward0\n",
            "ReluBackward0\n",
            "AddmmBackward0\n",
            "AccumulateGrad\n",
            "CatBackward0\n",
            "AddmmBackward0\n",
            "AccumulateGrad\n",
            "TBackward0\n",
            "AccumulateGrad\n",
            "SqueezeBackward1\n",
            "BmmBackward0\n",
            "UnsqueezeBackward0\n",
            "SoftmaxBackward0\n",
            "TBackward0\n",
            "MeanBackward1\n",
            "AddmmBackward0\n",
            "AccumulateGrad\n",
            "TBackward0\n",
            "AccumulateGrad\n",
            "TBackward0\n",
            "AccumulateGrad\n",
            "TBackward0\n",
            "AccumulateGrad\n",
            "TanhBackward0\n",
            "AddBackward0\n",
            "MulBackward0\n",
            "SigmoidBackward0\n",
            "UnsafeSplitBackward0\n",
            "AddBackward0\n",
            "AddmmBackward0\n",
            "AccumulateGrad\n",
            "TBackward0\n",
            "AccumulateGrad\n",
            "AddmmBackward0\n",
            "AccumulateGrad\n",
            "ReluBackward0\n",
            "ReluBackward0\n",
            "ReluBackward0\n",
            "ReluBackward0\n",
            "AddmmBackward0\n",
            "AccumulateGrad\n",
            "CatBackward0\n",
            "AddmmBackward0\n",
            "AccumulateGrad\n",
            "TBackward0\n",
            "AccumulateGrad\n",
            "SqueezeBackward1\n",
            "BmmBackward0\n",
            "UnsqueezeBackward0\n",
            "SoftmaxBackward0\n",
            "TBackward0\n",
            "MeanBackward1\n",
            "AddmmBackward0\n",
            "AccumulateGrad\n",
            "TBackward0\n",
            "AccumulateGrad\n",
            "TBackward0\n",
            "AccumulateGrad\n",
            "TBackward0\n",
            "AccumulateGrad\n",
            "MulBackward0\n",
            "SigmoidBackward0\n",
            "UnsafeSplitBackward0\n",
            "AddBackward0\n",
            "AddmmBackward0\n",
            "AccumulateGrad\n",
            "TBackward0\n",
            "AccumulateGrad\n",
            "AddmmBackward0\n",
            "AccumulateGrad\n",
            "ReluBackward0\n",
            "ReluBackward0\n",
            "ReluBackward0\n",
            "ReluBackward0\n",
            "AddmmBackward0\n",
            "AccumulateGrad\n",
            "CatBackward0\n",
            "AddmmBackward0\n",
            "AccumulateGrad\n",
            "TBackward0\n",
            "AccumulateGrad\n",
            "SqueezeBackward1\n",
            "BmmBackward0\n",
            "UnsqueezeBackward0\n",
            "SoftmaxBackward0\n",
            "TBackward0\n",
            "MeanBackward1\n",
            "AddmmBackward0\n",
            "AccumulateGrad\n",
            "TBackward0\n",
            "AccumulateGrad\n",
            "TBackward0\n",
            "AccumulateGrad\n",
            "TBackward0\n",
            "AccumulateGrad\n",
            "TanhBackward0\n",
            "UnsafeSplitBackward0\n",
            "AddBackward0\n",
            "AddmmBackward0\n",
            "AccumulateGrad\n",
            "TBackward0\n",
            "AccumulateGrad\n",
            "AddmmBackward0\n",
            "AccumulateGrad\n",
            "ReluBackward0\n",
            "ReluBackward0\n",
            "ReluBackward0\n",
            "ReluBackward0\n",
            "AddmmBackward0\n",
            "AccumulateGrad\n",
            "CatBackward0\n",
            "AddmmBackward0\n",
            "AccumulateGrad\n",
            "TBackward0\n",
            "AccumulateGrad\n",
            "SqueezeBackward1\n",
            "BmmBackward0\n",
            "UnsqueezeBackward0\n",
            "SoftmaxBackward0\n",
            "TBackward0\n",
            "MeanBackward1\n",
            "AddmmBackward0\n",
            "AccumulateGrad\n",
            "TBackward0\n",
            "AccumulateGrad\n",
            "TBackward0\n",
            "AccumulateGrad\n",
            "TBackward0\n",
            "AccumulateGrad\n",
            "TBackward0\n",
            "AccumulateGrad\n",
            "5 4 16\n",
            "Number of layers found, 7, is correct.\n",
            "Test H: 10/10\n"
          ]
        }
      ],
      "source": [
        "# student check - the following test must return a value of 4 to receive credit (10 pts)\n",
        "ag.test_attention_structure()"
      ]
    },
    {
      "cell_type": "code",
      "execution_count": 200,
      "metadata": {
        "editable": false,
        "jupyter": {
          "outputs_hidden": false
        },
        "tags": [
          "raises-exception"
        ],
        "id": "DfPOuO7qHVaD",
        "colab": {
          "base_uri": "https://localhost:8080/"
        },
        "outputId": "efe4f235-5376-4aea-96f9-e1d594ae021f"
      },
      "outputs": [
        {
          "output_type": "stream",
          "name": "stdout",
          "text": [
            "Number of linear layers found, 4, is correct.\n",
            "Test I: 10/10\n"
          ]
        }
      ],
      "source": [
        "# student check - the following test must return a value of 8 to receive credit (10 pts)\n",
        "ag.attention_linear_layer_size_check()"
      ]
    },
    {
      "cell_type": "markdown",
      "metadata": {
        "collapsed": false,
        "editable": false,
        "jupyter": {
          "outputs_hidden": false
        },
        "tags": [],
        "id": "Itt_MusnHVaD"
      },
      "source": [
        "## Attention---Training"
      ]
    },
    {
      "cell_type": "markdown",
      "metadata": {
        "collapsed": false,
        "editable": false,
        "jupyter": {
          "outputs_hidden": false
        },
        "tags": [],
        "id": "FyasQjXtHVaD"
      },
      "source": [
        "The training loop is a bit more involved because it must collect up a number of past hidden states. It still uses your `get_rnn_x_y()` function though."
      ]
    },
    {
      "cell_type": "code",
      "execution_count": 201,
      "metadata": {
        "editable": false,
        "jupyter": {
          "outputs_hidden": false
        },
        "tags": [
          "raises-exception"
        ],
        "id": "3zmnlMv0HVaD"
      },
      "outputs": [],
      "source": [
        "def train_attn(data, num_epochs, encoder, decoder, encoder_optimizer, decoder_optimizer, criterion, max_length=ATTN_MAX_LENGTH):\n",
        "  epoch_losses = []\n",
        "  encoder.train()\n",
        "  decoder.train()\n",
        "  for epoch in range(num_epochs):\n",
        "    losses = []\n",
        "    # Get an empty hc\n",
        "    encoder_hc = decoder.init_hidden()\n",
        "    # Create an empty history of hiddens\n",
        "    encoder_outputs = torch.zeros(max_length, encoder.hidden_size)\n",
        "\n",
        "    for iter in range(len(data)-1):\n",
        "      x, y = ag.get_rnn_x_y(data, iter, VOCAB.num_words())\n",
        "      x = x.float()\n",
        "      # Call encoder\n",
        "      encoder_hidden, encoder_cell = encoder(x, encoder_hc)\n",
        "      encoder_hc = (encoder_hidden, encoder_cell)\n",
        "      # unbatch the hidden so it can be added to encoder_outputs\n",
        "      encoder_output = encoder_hidden[0]\n",
        "      # Shift all the previous outputs\n",
        "      # Grab elements 1...max (dropping row 0) and flatten\n",
        "      encoder_outputs = encoder_outputs[1:,:].view(-1)\n",
        "      # Add the new output\n",
        "      encoder_outputs = torch.cat((encoder_outputs, encoder_output.detach()))\n",
        "      # re-fold\n",
        "      encoder_outputs = encoder_outputs.view(max_length, -1)\n",
        "      # decoder's input hc is the encoder's output hc\n",
        "      decoder_hc = encoder_hc\n",
        "      # Call the decoder\n",
        "      decoder_output, decoder_hc = decoder(x, decoder_hc, encoder_outputs)\n",
        "\n",
        "      loss = criterion(decoder_output, y)\n",
        "      losses.append(loss)\n",
        "\n",
        "      encoder_optimizer.zero_grad()\n",
        "      decoder_optimizer.zero_grad()\n",
        "      loss.backward()\n",
        "      encoder_optimizer.step()\n",
        "      decoder_optimizer.step()\n",
        "\n",
        "      # Prep the decoder hc for the next iteration\n",
        "      encoder_hc = (decoder_hc[0].detach(), decoder_hc[1].detach())\n",
        "\n",
        "      if iter%1000 == 0:\n",
        "        print(\"iter\", iter, \"loss\", torch.stack(losses).mean().item())\n",
        "    print(\"epoch\", epoch, \"loss\", torch.stack(losses).mean().item())\n",
        "    epoch_losses.append(torch.stack(losses).mean().item())\n",
        "  return epoch_losses"
      ]
    },
    {
      "cell_type": "code",
      "execution_count": 202,
      "metadata": {
        "editable": false,
        "jupyter": {
          "outputs_hidden": false
        },
        "tags": [
          "raises-exception"
        ],
        "id": "xnydCXwiHVaD",
        "colab": {
          "base_uri": "https://localhost:8080/"
        },
        "outputId": "52c356b6-124a-4b2a-cbd2-cfbabe04f5f4"
      },
      "outputs": [
        {
          "output_type": "stream",
          "name": "stdout",
          "text": [
            "iter 0 loss 8.580536842346191\n",
            "iter 1000 loss 6.805522441864014\n",
            "iter 2000 loss 6.538802146911621\n",
            "iter 3000 loss 6.353196620941162\n",
            "iter 4000 loss 6.296921730041504\n",
            "iter 5000 loss 6.251097202301025\n",
            "iter 6000 loss 6.207496643066406\n",
            "iter 7000 loss 6.16765832901001\n",
            "iter 8000 loss 6.117837429046631\n",
            "iter 9000 loss 6.051389694213867\n",
            "iter 10000 loss 6.015615463256836\n",
            "iter 11000 loss 5.970926761627197\n",
            "epoch 0 loss 5.943697452545166\n",
            "iter 0 loss 6.251501083374023\n",
            "iter 1000 loss 5.465932369232178\n",
            "iter 2000 loss 5.498825550079346\n",
            "iter 3000 loss 5.442476272583008\n",
            "iter 4000 loss 5.468780517578125\n",
            "iter 5000 loss 5.480052471160889\n",
            "iter 6000 loss 5.48099422454834\n",
            "iter 7000 loss 5.4813618659973145\n",
            "iter 8000 loss 5.465270042419434\n",
            "iter 9000 loss 5.424196720123291\n",
            "iter 10000 loss 5.409275054931641\n",
            "iter 11000 loss 5.384425163269043\n",
            "epoch 1 loss 5.366455554962158\n",
            "iter 0 loss 5.806661605834961\n",
            "iter 1000 loss 5.191471576690674\n",
            "iter 2000 loss 5.249866008758545\n",
            "iter 3000 loss 5.216944694519043\n",
            "iter 4000 loss 5.242782115936279\n",
            "iter 5000 loss 5.251925945281982\n",
            "iter 6000 loss 5.248080730438232\n",
            "iter 7000 loss 5.2553205490112305\n",
            "iter 8000 loss 5.24561882019043\n",
            "iter 9000 loss 5.209751129150391\n",
            "iter 10000 loss 5.1959919929504395\n",
            "iter 11000 loss 5.177214622497559\n",
            "epoch 2 loss 5.161382675170898\n"
          ]
        }
      ],
      "source": [
        "epoch_losses = train_attn(TRAIN, ATTN_NUM_EPOCHS, attn_encoder, attn_decoder, attn_encoder_optimizer, attn_decoder_optimizer, attn_criterion, ATTN_MAX_LENGTH)"
      ]
    },
    {
      "cell_type": "code",
      "execution_count": 203,
      "metadata": {
        "editable": false,
        "jupyter": {
          "outputs_hidden": false
        },
        "tags": [
          "raises-exception"
        ],
        "id": "8v_-8CtBHVaD",
        "colab": {
          "base_uri": "https://localhost:8080/",
          "height": 467
        },
        "outputId": "992656a1-07e2-4973-cedd-0ceaa8014a61"
      },
      "outputs": [
        {
          "output_type": "execute_result",
          "data": {
            "text/plain": [
              "[<matplotlib.lines.Line2D at 0x7c1ad078b890>]"
            ]
          },
          "metadata": {},
          "execution_count": 203
        },
        {
          "output_type": "display_data",
          "data": {
            "text/plain": [
              "<Figure size 640x480 with 1 Axes>"
            ],
            "image/png": "[encoded data removed]"
          },
          "metadata": {}
        }
      ],
      "source": [
        "plt.figure(1)\n",
        "plt.clf()\n",
        "plt.xlabel('Epoch')\n",
        "plt.ylabel('Loss')\n",
        "plt.xticks(range(len(epoch_losses)))\n",
        "plt.plot(epoch_losses)"
      ]
    },
    {
      "cell_type": "markdown",
      "metadata": {
        "collapsed": false,
        "editable": false,
        "jupyter": {
          "outputs_hidden": false
        },
        "tags": [],
        "id": "ZxIejExMHVaD"
      },
      "source": [
        "You should see a curve that slopes down steeply at first and then levels out to some asymptotic minimum."
      ]
    },
    {
      "cell_type": "markdown",
      "metadata": {
        "collapsed": false,
        "editable": false,
        "jupyter": {
          "outputs_hidden": false
        },
        "tags": [],
        "id": "ag2u_NerHVaD"
      },
      "source": [
        "## Attention---Testing"
      ]
    },
    {
      "cell_type": "code",
      "execution_count": 204,
      "metadata": {
        "editable": false,
        "jupyter": {
          "outputs_hidden": false
        },
        "tags": [
          "raises-exception"
        ],
        "id": "8dkHGQvpHVaD",
        "colab": {
          "base_uri": "https://localhost:8080/"
        },
        "outputId": "122c0719-df78-4d95-e942-4bf6ace9c671"
      },
      "outputs": [
        {
          "output_type": "stream",
          "name": "stdout",
          "text": [
            "Perplexity = 387.465087890625\n",
            "Perplexity is less than 1000\n",
            "Test J: 20/20\n"
          ]
        }
      ],
      "source": [
        "# student check - the following test must return a value less than 1000 to receive credit (20 pts)\n",
        "ag.eval_attn(max_perplexity=1000)"
      ]
    },
    {
      "cell_type": "markdown",
      "metadata": {
        "collapsed": false,
        "editable": false,
        "jupyter": {
          "outputs_hidden": false
        },
        "tags": [],
        "id": "JadU2BFvHVaD"
      },
      "source": [
        "# Grading\n",
        "\n",
        "Please submit this .ipynb file to Gradescope for grading."
      ]
    },
    {
      "cell_type": "markdown",
      "metadata": {
        "collapsed": false,
        "editable": false,
        "jupyter": {
          "outputs_hidden": false
        },
        "tags": [],
        "id": "pbBamF0UHVaD"
      },
      "source": [
        "## Final Grade"
      ]
    },
    {
      "cell_type": "code",
      "execution_count": 205,
      "metadata": {
        "editable": false,
        "jupyter": {
          "outputs_hidden": false
        },
        "tags": [
          "raises-exception"
        ],
        "id": "BjcXXZjjHVaD",
        "colab": {
          "base_uri": "https://localhost:8080/"
        },
        "outputId": "ed7964d7-6957-4fd1-8b99-beea83b84a38"
      },
      "outputs": [
        {
          "output_type": "stream",
          "name": "stdout",
          "text": [
            "Your projected points for this assignment is 380/100.\n",
            "\n",
            "NOTE: THIS IS NOT YOUR FINAL GRADE. YOUR FINAL GRADE FOR THIS ASSIGNMENT WILL BE AT LEAST 380 OR MORE, BUT NOT LESS\n",
            "\n"
          ]
        }
      ],
      "source": [
        "# student check\n",
        "ag.final_grade()"
      ]
    },
    {
      "cell_type": "markdown",
      "metadata": {
        "collapsed": false,
        "editable": false,
        "jupyter": {
          "outputs_hidden": false
        },
        "tags": [],
        "id": "ohzin0WDHVaD"
      },
      "source": [
        "## Notebook Runtime"
      ]
    },
    {
      "cell_type": "code",
      "execution_count": 206,
      "metadata": {
        "editable": false,
        "jupyter": {
          "outputs_hidden": false
        },
        "tags": [
          "raises-exception"
        ],
        "id": "qqcKbrlyHVaD",
        "colab": {
          "base_uri": "https://localhost:8080/"
        },
        "outputId": "4fb59d66-ef02-4fc1-f214-d90f33bbcec9"
      },
      "outputs": [
        {
          "output_type": "stream",
          "name": "stdout",
          "text": [
            "Notebook execution time in minutes = 15.626330395539602\n"
          ]
        }
      ],
      "source": [
        "# end time - notebook execution\n",
        "end_nb = time.time()\n",
        "# print notebook execution time in minutes\n",
        "print(\"Notebook execution time in minutes =\", (end_nb - start_nb)/60)\n",
        "# warn student if notebook execution time is greater than 30 minutes\n",
        "if (end_nb - start_nb)/60 > 30:\n",
        "  print(\"WARNING: Notebook execution time is greater than 30 minutes. Your submission may not complete auto-grading on Gradescope. Please optimize your code to reduce the notebook execution time.\")"
      ]
    }
  ],
  "metadata": {
    "accelerator": "GPU",
    "colab": {
      "provenance": [],
      "include_colab_link": true
    },
    "kernelspec": {
      "display_name": "Python 3 (ipykernel)",
      "language": "python",
      "name": "python3"
    },
    "language_info": {
      "codemirror_mode": {
        "name": "ipython",
        "version": 3
      },
      "file_extension": ".py",
      "mimetype": "text/x-python",
      "name": "python",
      "nbconvert_exporter": "python",
      "pygments_lexer": "ipython3",
      "version": "3.8.1"
    }
  },
  "nbformat": 4,
  "nbformat_minor": 0
}